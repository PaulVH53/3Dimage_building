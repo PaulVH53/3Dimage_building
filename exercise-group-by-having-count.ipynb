{
 "cells": [
  {
   "cell_type": "markdown",
   "id": "e0f0dbb6",
   "metadata": {
    "papermill": {
     "duration": 0.008129,
     "end_time": "2024-04-03T14:52:06.259654",
     "exception": false,
     "start_time": "2024-04-03T14:52:06.251525",
     "status": "completed"
    },
    "tags": []
   },
   "source": [
    "**This notebook is an exercise in the [SQL](https://www.kaggle.com/learn/intro-to-sql) course.  You can reference the tutorial at [this link](https://www.kaggle.com/dansbecker/group-by-having-count).**\n",
    "\n",
    "---\n"
   ]
  },
  {
   "cell_type": "markdown",
   "id": "33a92ab0",
   "metadata": {
    "papermill": {
     "duration": 0.006948,
     "end_time": "2024-04-03T14:52:06.274161",
     "exception": false,
     "start_time": "2024-04-03T14:52:06.267213",
     "status": "completed"
    },
    "tags": []
   },
   "source": [
    "# Introduction\n",
    "\n",
    "Queries with **GROUP BY** can be powerful. There are many small things that can trip you up (like the order of the clauses), but it will start to feel natural once you've done it a few times. Here, you'll write queries using **GROUP BY** to answer questions from the Hacker News dataset.\n",
    "\n",
    "Before you get started, run the following cell to set everything up:"
   ]
  },
  {
   "cell_type": "code",
   "execution_count": 1,
   "id": "367d27b2",
   "metadata": {
    "execution": {
     "iopub.execute_input": "2024-04-03T14:52:06.292386Z",
     "iopub.status.busy": "2024-04-03T14:52:06.291123Z",
     "iopub.status.idle": "2024-04-03T14:52:16.270719Z",
     "shell.execute_reply": "2024-04-03T14:52:16.269282Z"
    },
    "papermill": {
     "duration": 9.991963,
     "end_time": "2024-04-03T14:52:16.273498",
     "exception": false,
     "start_time": "2024-04-03T14:52:06.281535",
     "status": "completed"
    },
    "tags": []
   },
   "outputs": [
    {
     "name": "stdout",
     "output_type": "stream",
     "text": [
      "Using Kaggle's public dataset BigQuery integration.\n",
      "Setup Complete\n"
     ]
    }
   ],
   "source": [
    "# Set up feedback system\n",
    "from learntools.core import binder\n",
    "binder.bind(globals())\n",
    "from learntools.sql.ex3 import *\n",
    "print(\"Setup Complete\")"
   ]
  },
  {
   "cell_type": "code",
   "execution_count": 2,
   "id": "e3de2582",
   "metadata": {
    "execution": {
     "iopub.execute_input": "2024-04-03T14:52:16.292184Z",
     "iopub.status.busy": "2024-04-03T14:52:16.290579Z",
     "iopub.status.idle": "2024-04-03T14:52:16.677323Z",
     "shell.execute_reply": "2024-04-03T14:52:16.675902Z"
    },
    "papermill": {
     "duration": 0.398948,
     "end_time": "2024-04-03T14:52:16.680190",
     "exception": false,
     "start_time": "2024-04-03T14:52:16.281242",
     "status": "completed"
    },
    "tags": []
   },
   "outputs": [
    {
     "name": "stdout",
     "output_type": "stream",
     "text": [
      "Using Kaggle's public dataset BigQuery integration.\n"
     ]
    }
   ],
   "source": [
    "from google.cloud import bigquery\n",
    "\n",
    "# Create a \"Client\" object\n",
    "client = bigquery.Client()\n",
    "\n",
    "# Construct a reference to the \"hacker_news\" dataset\n",
    "dataset_ref = client.dataset(\"hacker_news\", project=\"bigquery-public-data\")\n",
    "\n",
    "# API request - fetch the dataset\n",
    "dataset = client.get_dataset(dataset_ref)"
   ]
  },
  {
   "cell_type": "code",
   "execution_count": 3,
   "id": "3ef5fd73",
   "metadata": {
    "execution": {
     "iopub.execute_input": "2024-04-03T14:52:16.698651Z",
     "iopub.status.busy": "2024-04-03T14:52:16.697812Z",
     "iopub.status.idle": "2024-04-03T14:52:16.707344Z",
     "shell.execute_reply": "2024-04-03T14:52:16.705761Z"
    },
    "papermill": {
     "duration": 0.02193,
     "end_time": "2024-04-03T14:52:16.709857",
     "exception": false,
     "start_time": "2024-04-03T14:52:16.687927",
     "status": "completed"
    },
    "tags": []
   },
   "outputs": [
    {
     "data": {
      "text/plain": [
       "Dataset(DatasetReference('bigquery-public-data', 'hacker_news'))"
      ]
     },
     "execution_count": 3,
     "metadata": {},
     "output_type": "execute_result"
    }
   ],
   "source": [
    "dataset"
   ]
  },
  {
   "cell_type": "code",
   "execution_count": 4,
   "id": "2e758b48",
   "metadata": {
    "execution": {
     "iopub.execute_input": "2024-04-03T14:52:16.731079Z",
     "iopub.status.busy": "2024-04-03T14:52:16.729433Z",
     "iopub.status.idle": "2024-04-03T14:52:17.217573Z",
     "shell.execute_reply": "2024-04-03T14:52:17.215948Z"
    },
    "papermill": {
     "duration": 0.502624,
     "end_time": "2024-04-03T14:52:17.220716",
     "exception": false,
     "start_time": "2024-04-03T14:52:16.718092",
     "status": "completed"
    },
    "tags": []
   },
   "outputs": [],
   "source": [
    "# Construct a reference to the \"comments\" table\n",
    "# table_ref = dataset_ref.table(\"comments\")\n",
    "table_ref = dataset_ref.table(\"full\")\n",
    "\n",
    "# API request - fetch the table\n",
    "table = client.get_table(table_ref)"
   ]
  },
  {
   "cell_type": "markdown",
   "id": "2f65ebcf",
   "metadata": {
    "papermill": {
     "duration": 0.007717,
     "end_time": "2024-04-03T14:52:17.236889",
     "exception": false,
     "start_time": "2024-04-03T14:52:17.229172",
     "status": "completed"
    },
    "tags": []
   },
   "source": [
    "The code cell below fetches the `comments` table from the `hacker_news` dataset.  We also preview the first five rows of the table."
   ]
  },
  {
   "cell_type": "code",
   "execution_count": 5,
   "id": "d60408d3",
   "metadata": {
    "execution": {
     "iopub.execute_input": "2024-04-03T14:52:17.257645Z",
     "iopub.status.busy": "2024-04-03T14:52:17.256821Z",
     "iopub.status.idle": "2024-04-03T14:52:17.873689Z",
     "shell.execute_reply": "2024-04-03T14:52:17.872170Z"
    },
    "papermill": {
     "duration": 0.630464,
     "end_time": "2024-04-03T14:52:17.876480",
     "exception": false,
     "start_time": "2024-04-03T14:52:17.246016",
     "status": "completed"
    },
    "tags": []
   },
   "outputs": [
    {
     "data": {
      "text/html": [
       "<div>\n",
       "<style scoped>\n",
       "    .dataframe tbody tr th:only-of-type {\n",
       "        vertical-align: middle;\n",
       "    }\n",
       "\n",
       "    .dataframe tbody tr th {\n",
       "        vertical-align: top;\n",
       "    }\n",
       "\n",
       "    .dataframe thead th {\n",
       "        text-align: right;\n",
       "    }\n",
       "</style>\n",
       "<table border=\"1\" class=\"dataframe\">\n",
       "  <thead>\n",
       "    <tr style=\"text-align: right;\">\n",
       "      <th></th>\n",
       "      <th>title</th>\n",
       "      <th>url</th>\n",
       "      <th>text</th>\n",
       "      <th>dead</th>\n",
       "      <th>by</th>\n",
       "      <th>score</th>\n",
       "      <th>time</th>\n",
       "      <th>timestamp</th>\n",
       "      <th>type</th>\n",
       "      <th>id</th>\n",
       "      <th>parent</th>\n",
       "      <th>descendants</th>\n",
       "      <th>ranking</th>\n",
       "      <th>deleted</th>\n",
       "    </tr>\n",
       "  </thead>\n",
       "  <tbody>\n",
       "    <tr>\n",
       "      <th>0</th>\n",
       "      <td>None</td>\n",
       "      <td>None</td>\n",
       "      <td>If the crocodile looked him up on Google, we b...</td>\n",
       "      <td>None</td>\n",
       "      <td>raxxorrax</td>\n",
       "      <td>NaN</td>\n",
       "      <td>1633421535</td>\n",
       "      <td>2021-10-05 08:12:15+00:00</td>\n",
       "      <td>comment</td>\n",
       "      <td>28756662</td>\n",
       "      <td>28750122</td>\n",
       "      <td>NaN</td>\n",
       "      <td>NaN</td>\n",
       "      <td>None</td>\n",
       "    </tr>\n",
       "    <tr>\n",
       "      <th>1</th>\n",
       "      <td>None</td>\n",
       "      <td>None</td>\n",
       "      <td>What exactly are you looking for? I think Pyto...</td>\n",
       "      <td>None</td>\n",
       "      <td>abiro</td>\n",
       "      <td>NaN</td>\n",
       "      <td>1569141387</td>\n",
       "      <td>2019-09-22 08:36:27+00:00</td>\n",
       "      <td>comment</td>\n",
       "      <td>21040311</td>\n",
       "      <td>21040141</td>\n",
       "      <td>NaN</td>\n",
       "      <td>NaN</td>\n",
       "      <td>None</td>\n",
       "    </tr>\n",
       "    <tr>\n",
       "      <th>2</th>\n",
       "      <td>None</td>\n",
       "      <td>None</td>\n",
       "      <td>Ironically, this very project might help out w...</td>\n",
       "      <td>None</td>\n",
       "      <td>mjevans</td>\n",
       "      <td>NaN</td>\n",
       "      <td>1505769703</td>\n",
       "      <td>2017-09-18 21:21:43+00:00</td>\n",
       "      <td>comment</td>\n",
       "      <td>15279716</td>\n",
       "      <td>15276626</td>\n",
       "      <td>NaN</td>\n",
       "      <td>NaN</td>\n",
       "      <td>None</td>\n",
       "    </tr>\n",
       "    <tr>\n",
       "      <th>3</th>\n",
       "      <td>None</td>\n",
       "      <td>None</td>\n",
       "      <td>As you start to gain some experience it can be...</td>\n",
       "      <td>None</td>\n",
       "      <td>every_other</td>\n",
       "      <td>NaN</td>\n",
       "      <td>1538575027</td>\n",
       "      <td>2018-10-03 13:57:07+00:00</td>\n",
       "      <td>comment</td>\n",
       "      <td>18130207</td>\n",
       "      <td>18128477</td>\n",
       "      <td>NaN</td>\n",
       "      <td>NaN</td>\n",
       "      <td>None</td>\n",
       "    </tr>\n",
       "    <tr>\n",
       "      <th>4</th>\n",
       "      <td>None</td>\n",
       "      <td>None</td>\n",
       "      <td>That’s what I was referring to, yes. I heard o...</td>\n",
       "      <td>None</td>\n",
       "      <td>manmal</td>\n",
       "      <td>NaN</td>\n",
       "      <td>1615664155</td>\n",
       "      <td>2021-03-13 19:35:55+00:00</td>\n",
       "      <td>comment</td>\n",
       "      <td>26449260</td>\n",
       "      <td>26449237</td>\n",
       "      <td>NaN</td>\n",
       "      <td>NaN</td>\n",
       "      <td>None</td>\n",
       "    </tr>\n",
       "  </tbody>\n",
       "</table>\n",
       "</div>"
      ],
      "text/plain": [
       "  title   url                                               text  dead  \\\n",
       "0  None  None  If the crocodile looked him up on Google, we b...  None   \n",
       "1  None  None  What exactly are you looking for? I think Pyto...  None   \n",
       "2  None  None  Ironically, this very project might help out w...  None   \n",
       "3  None  None  As you start to gain some experience it can be...  None   \n",
       "4  None  None  That’s what I was referring to, yes. I heard o...  None   \n",
       "\n",
       "            by  score        time                 timestamp     type  \\\n",
       "0    raxxorrax    NaN  1633421535 2021-10-05 08:12:15+00:00  comment   \n",
       "1        abiro    NaN  1569141387 2019-09-22 08:36:27+00:00  comment   \n",
       "2      mjevans    NaN  1505769703 2017-09-18 21:21:43+00:00  comment   \n",
       "3  every_other    NaN  1538575027 2018-10-03 13:57:07+00:00  comment   \n",
       "4       manmal    NaN  1615664155 2021-03-13 19:35:55+00:00  comment   \n",
       "\n",
       "         id    parent  descendants  ranking deleted  \n",
       "0  28756662  28750122          NaN      NaN    None  \n",
       "1  21040311  21040141          NaN      NaN    None  \n",
       "2  15279716  15276626          NaN      NaN    None  \n",
       "3  18130207  18128477          NaN      NaN    None  \n",
       "4  26449260  26449237          NaN      NaN    None  "
      ]
     },
     "execution_count": 5,
     "metadata": {},
     "output_type": "execute_result"
    }
   ],
   "source": [
    "# Preview the first five lines of the \"comments\" table\n",
    "client.list_rows(table, max_results=5).to_dataframe()"
   ]
  },
  {
   "cell_type": "markdown",
   "id": "10f7a1af",
   "metadata": {
    "papermill": {
     "duration": 0.008199,
     "end_time": "2024-04-03T14:52:17.893243",
     "exception": false,
     "start_time": "2024-04-03T14:52:17.885044",
     "status": "completed"
    },
    "tags": []
   },
   "source": [
    "# Exercises\n",
    "\n",
    "### 1) Prolific commenters\n",
    "\n",
    "Hacker News would like to send awards to everyone who has written more than 10,000 posts. Write a query that returns all authors with more than 10,000 posts as well as their post counts. Call the column with post counts `NumPosts`.\n",
    "\n",
    "In case sample query is helpful, here is a query you saw in the tutorial to answer a similar question:\n",
    "```\n",
    "query = \"\"\"\n",
    "        SELECT parent, COUNT(1) AS NumPosts\n",
    "        FROM `bigquery-public-data.hacker_news.comments`\n",
    "        GROUP BY parent\n",
    "        HAVING COUNT(1) > 10\n",
    "        \"\"\"\n",
    "```"
   ]
  },
  {
   "cell_type": "code",
   "execution_count": 6,
   "id": "d2957964",
   "metadata": {
    "execution": {
     "iopub.execute_input": "2024-04-03T14:52:17.912998Z",
     "iopub.status.busy": "2024-04-03T14:52:17.911954Z",
     "iopub.status.idle": "2024-04-03T14:52:19.322389Z",
     "shell.execute_reply": "2024-04-03T14:52:19.321179Z"
    },
    "papermill": {
     "duration": 1.42598,
     "end_time": "2024-04-03T14:52:19.327923",
     "exception": false,
     "start_time": "2024-04-03T14:52:17.901943",
     "status": "completed"
    },
    "tags": []
   },
   "outputs": [
    {
     "name": "stdout",
     "output_type": "stream",
     "text": [
      "         author  NumPosts\n",
      "0  nostrademons     12068\n",
      "1      viraptor     10349\n",
      "2         ingve     11146\n",
      "3   userbinator     12662\n",
      "4  thaumasiotes     11712\n"
     ]
    },
    {
     "data": {
      "application/javascript": [
       "parent.postMessage({\"jupyterEvent\": \"custom.exercise_interaction\", \"data\": {\"outcomeType\": 1, \"valueTowardsCompletion\": 0.5, \"interactionType\": 1, \"questionType\": 2, \"questionId\": \"1_ProlificCommenters\", \"learnToolsVersion\": \"0.3.4\", \"failureMessage\": \"\", \"exceptionClass\": \"\", \"trace\": \"\"}}, \"*\")"
      ],
      "text/plain": [
       "<IPython.core.display.Javascript object>"
      ]
     },
     "metadata": {},
     "output_type": "display_data"
    },
    {
     "data": {
      "text/markdown": [
       "<span style=\"color:#33cc33\">Correct</span>"
      ],
      "text/plain": [
       "Correct"
      ]
     },
     "metadata": {},
     "output_type": "display_data"
    }
   ],
   "source": [
    "# Query to select prolific commenters and post counts\n",
    "prolific_commenters_query = \"\"\"\n",
    "                            SELECT `by` AS author, COUNT(id) AS NumPosts\n",
    "                            FROM `bigquery-public-data.hacker_news.full`\n",
    "                            GROUP BY `author`\n",
    "                            HAVING COUNT(id) > 10000\n",
    "                            \"\"\"\n",
    "\n",
    "# Set up the query (cancel the query if it would use too much of \n",
    "# your quota, with the limit set to 1 GB)\n",
    "safe_config = bigquery.QueryJobConfig(maximum_bytes_billed=10**10)\n",
    "query_job = client.query(prolific_commenters_query, job_config=safe_config)\n",
    "\n",
    "# API request - run the query, and return a pandas DataFrame\n",
    "prolific_commenters = query_job.to_dataframe()\n",
    "\n",
    "# View top few rows of results\n",
    "print(prolific_commenters.head())\n",
    "\n",
    "# Check your answer\n",
    "q_1.check()"
   ]
  },
  {
   "cell_type": "markdown",
   "id": "0efe9ec0",
   "metadata": {
    "papermill": {
     "duration": 0.009899,
     "end_time": "2024-04-03T14:52:19.347330",
     "exception": false,
     "start_time": "2024-04-03T14:52:19.337431",
     "status": "completed"
    },
    "tags": []
   },
   "source": [
    "For the solution, uncomment the line below."
   ]
  },
  {
   "cell_type": "code",
   "execution_count": 7,
   "id": "37258308",
   "metadata": {
    "execution": {
     "iopub.execute_input": "2024-04-03T14:52:19.368369Z",
     "iopub.status.busy": "2024-04-03T14:52:19.367128Z",
     "iopub.status.idle": "2024-04-03T14:52:19.375335Z",
     "shell.execute_reply": "2024-04-03T14:52:19.374525Z"
    },
    "papermill": {
     "duration": 0.021187,
     "end_time": "2024-04-03T14:52:19.377573",
     "exception": false,
     "start_time": "2024-04-03T14:52:19.356386",
     "status": "completed"
    },
    "tags": []
   },
   "outputs": [
    {
     "data": {
      "application/javascript": [
       "parent.postMessage({\"jupyterEvent\": \"custom.exercise_interaction\", \"data\": {\"interactionType\": 3, \"questionType\": 2, \"questionId\": \"1_ProlificCommenters\", \"learnToolsVersion\": \"0.3.4\", \"valueTowardsCompletion\": 0.0, \"failureMessage\": \"\", \"exceptionClass\": \"\", \"trace\": \"\", \"outcomeType\": 4}}, \"*\")"
      ],
      "text/plain": [
       "<IPython.core.display.Javascript object>"
      ]
     },
     "metadata": {},
     "output_type": "display_data"
    },
    {
     "data": {
      "text/markdown": [
       "<span style=\"color:#33cc99\">Solution:</span> \n",
       "```python\n",
       "\n",
       "prolific_commenters_query = \"\"\"\n",
       "                            SELECT `by` AS author, COUNT(1) AS NumPosts\n",
       "                            FROM `bigquery-public-data.hacker_news.full`\n",
       "                            GROUP BY author\n",
       "                            HAVING COUNT(1) > 10000\n",
       "                            \"\"\"\n",
       "\n",
       "```"
      ],
      "text/plain": [
       "Solution: \n",
       "```python\n",
       "\n",
       "prolific_commenters_query = \"\"\"\n",
       "                            SELECT `by` AS author, COUNT(1) AS NumPosts\n",
       "                            FROM `bigquery-public-data.hacker_news.full`\n",
       "                            GROUP BY author\n",
       "                            HAVING COUNT(1) > 10000\n",
       "                            \"\"\"\n",
       "\n",
       "```"
      ]
     },
     "metadata": {},
     "output_type": "display_data"
    }
   ],
   "source": [
    "q_1.solution()"
   ]
  },
  {
   "cell_type": "markdown",
   "id": "8b96931e",
   "metadata": {
    "papermill": {
     "duration": 0.008982,
     "end_time": "2024-04-03T14:52:19.395710",
     "exception": false,
     "start_time": "2024-04-03T14:52:19.386728",
     "status": "completed"
    },
    "tags": []
   },
   "source": [
    "### 2) Deleted comments\n",
    "\n",
    "How many comments have been deleted? (If a comment was deleted, the `deleted` column in the comments table will have the value `True`.)"
   ]
  },
  {
   "cell_type": "code",
   "execution_count": 8,
   "id": "594b6a7e",
   "metadata": {
    "execution": {
     "iopub.execute_input": "2024-04-03T14:52:19.416899Z",
     "iopub.status.busy": "2024-04-03T14:52:19.416254Z",
     "iopub.status.idle": "2024-04-03T14:52:19.421809Z",
     "shell.execute_reply": "2024-04-03T14:52:19.420347Z"
    },
    "papermill": {
     "duration": 0.01933,
     "end_time": "2024-04-03T14:52:19.424555",
     "exception": false,
     "start_time": "2024-04-03T14:52:19.405225",
     "status": "completed"
    },
    "tags": []
   },
   "outputs": [],
   "source": [
    "# Write your query here and figure out the answer\n",
    "deleted_posts_query = \"\"\"SELECT COUNT(1) AS num_deleted_posts\n",
    "                         FROM `bigquery-public-data.hacker_news.full`\n",
    "                         WHERE deleted = True\"\"\""
   ]
  },
  {
   "cell_type": "code",
   "execution_count": 9,
   "id": "4492dd41",
   "metadata": {
    "execution": {
     "iopub.execute_input": "2024-04-03T14:52:19.445759Z",
     "iopub.status.busy": "2024-04-03T14:52:19.444728Z",
     "iopub.status.idle": "2024-04-03T14:52:20.901775Z",
     "shell.execute_reply": "2024-04-03T14:52:20.900103Z"
    },
    "papermill": {
     "duration": 1.470597,
     "end_time": "2024-04-03T14:52:20.904670",
     "exception": false,
     "start_time": "2024-04-03T14:52:19.434073",
     "status": "completed"
    },
    "tags": []
   },
   "outputs": [
    {
     "data": {
      "application/javascript": [
       "parent.postMessage({\"jupyterEvent\": \"custom.exercise_interaction\", \"data\": {\"outcomeType\": 1, \"valueTowardsCompletion\": 0.5, \"interactionType\": 1, \"questionType\": 1, \"questionId\": \"2_NumDeletedPosts\", \"learnToolsVersion\": \"0.3.4\", \"failureMessage\": \"\", \"exceptionClass\": \"\", \"trace\": \"\"}}, \"*\")"
      ],
      "text/plain": [
       "<IPython.core.display.Javascript object>"
      ]
     },
     "metadata": {},
     "output_type": "display_data"
    },
    {
     "data": {
      "text/markdown": [
       "<span style=\"color:#33cc33\">Correct</span>"
      ],
      "text/plain": [
       "Correct"
      ]
     },
     "metadata": {},
     "output_type": "display_data"
    }
   ],
   "source": [
    "query_job = client.query(deleted_posts_query)\n",
    "deleted_posts = query_job.to_dataframe()\n",
    "num_deleted_posts_answer = deleted_posts.values[0][0]\n",
    "\n",
    "num_deleted_posts = num_deleted_posts_answer # Put your answer here\n",
    "\n",
    "# Check your answer\n",
    "q_2.check()"
   ]
  },
  {
   "cell_type": "code",
   "execution_count": 10,
   "id": "58e61855",
   "metadata": {
    "execution": {
     "iopub.execute_input": "2024-04-03T14:52:20.930205Z",
     "iopub.status.busy": "2024-04-03T14:52:20.928590Z",
     "iopub.status.idle": "2024-04-03T14:52:20.938969Z",
     "shell.execute_reply": "2024-04-03T14:52:20.937316Z"
    },
    "papermill": {
     "duration": 0.024564,
     "end_time": "2024-04-03T14:52:20.941721",
     "exception": false,
     "start_time": "2024-04-03T14:52:20.917157",
     "status": "completed"
    },
    "tags": []
   },
   "outputs": [
    {
     "data": {
      "text/html": [
       "<div>\n",
       "<style scoped>\n",
       "    .dataframe tbody tr th:only-of-type {\n",
       "        vertical-align: middle;\n",
       "    }\n",
       "\n",
       "    .dataframe tbody tr th {\n",
       "        vertical-align: top;\n",
       "    }\n",
       "\n",
       "    .dataframe thead th {\n",
       "        text-align: right;\n",
       "    }\n",
       "</style>\n",
       "<table border=\"1\" class=\"dataframe\">\n",
       "  <thead>\n",
       "    <tr style=\"text-align: right;\">\n",
       "      <th></th>\n",
       "      <th>num_deleted_posts</th>\n",
       "    </tr>\n",
       "  </thead>\n",
       "  <tbody>\n",
       "    <tr>\n",
       "      <th>0</th>\n",
       "      <td>859401</td>\n",
       "    </tr>\n",
       "  </tbody>\n",
       "</table>\n",
       "</div>"
      ],
      "text/plain": [
       "   num_deleted_posts\n",
       "0             859401"
      ]
     },
     "execution_count": 10,
     "metadata": {},
     "output_type": "execute_result"
    }
   ],
   "source": [
    "deleted_posts"
   ]
  },
  {
   "cell_type": "code",
   "execution_count": 11,
   "id": "9f41dc62",
   "metadata": {
    "execution": {
     "iopub.execute_input": "2024-04-03T14:52:20.963463Z",
     "iopub.status.busy": "2024-04-03T14:52:20.963084Z",
     "iopub.status.idle": "2024-04-03T14:52:20.971565Z",
     "shell.execute_reply": "2024-04-03T14:52:20.970313Z"
    },
    "papermill": {
     "duration": 0.022769,
     "end_time": "2024-04-03T14:52:20.974303",
     "exception": false,
     "start_time": "2024-04-03T14:52:20.951534",
     "status": "completed"
    },
    "tags": []
   },
   "outputs": [
    {
     "data": {
      "text/plain": [
       "<bound method NDFrame.keys of    num_deleted_posts\n",
       "0             859401>"
      ]
     },
     "execution_count": 11,
     "metadata": {},
     "output_type": "execute_result"
    }
   ],
   "source": [
    "deleted_posts.keys"
   ]
  },
  {
   "cell_type": "code",
   "execution_count": 12,
   "id": "56e44ee0",
   "metadata": {
    "execution": {
     "iopub.execute_input": "2024-04-03T14:52:20.997522Z",
     "iopub.status.busy": "2024-04-03T14:52:20.996895Z",
     "iopub.status.idle": "2024-04-03T14:52:21.008874Z",
     "shell.execute_reply": "2024-04-03T14:52:21.006720Z"
    },
    "papermill": {
     "duration": 0.027627,
     "end_time": "2024-04-03T14:52:21.012234",
     "exception": false,
     "start_time": "2024-04-03T14:52:20.984607",
     "status": "completed"
    },
    "tags": []
   },
   "outputs": [
    {
     "data": {
      "text/plain": [
       "(array([[859401]]), array([859401]), 859401)"
      ]
     },
     "execution_count": 12,
     "metadata": {},
     "output_type": "execute_result"
    }
   ],
   "source": [
    "deleted_posts.values, deleted_posts.values[0], deleted_posts.values[0][0]"
   ]
  },
  {
   "cell_type": "code",
   "execution_count": 13,
   "id": "13a60658",
   "metadata": {
    "execution": {
     "iopub.execute_input": "2024-04-03T14:52:21.037258Z",
     "iopub.status.busy": "2024-04-03T14:52:21.036717Z",
     "iopub.status.idle": "2024-04-03T14:52:21.045567Z",
     "shell.execute_reply": "2024-04-03T14:52:21.043771Z"
    },
    "papermill": {
     "duration": 0.025413,
     "end_time": "2024-04-03T14:52:21.048518",
     "exception": false,
     "start_time": "2024-04-03T14:52:21.023105",
     "status": "completed"
    },
    "tags": []
   },
   "outputs": [
    {
     "data": {
      "text/plain": [
       "859401"
      ]
     },
     "execution_count": 13,
     "metadata": {},
     "output_type": "execute_result"
    }
   ],
   "source": [
    "num_deleted_posts"
   ]
  },
  {
   "cell_type": "markdown",
   "id": "7b52232a",
   "metadata": {
    "papermill": {
     "duration": 0.010383,
     "end_time": "2024-04-03T14:52:21.070105",
     "exception": false,
     "start_time": "2024-04-03T14:52:21.059722",
     "status": "completed"
    },
    "tags": []
   },
   "source": [
    "For the solution, uncomment the line below."
   ]
  },
  {
   "cell_type": "code",
   "execution_count": 14,
   "id": "7d1008a4",
   "metadata": {
    "execution": {
     "iopub.execute_input": "2024-04-03T14:52:21.093802Z",
     "iopub.status.busy": "2024-04-03T14:52:21.093347Z",
     "iopub.status.idle": "2024-04-03T14:52:21.104715Z",
     "shell.execute_reply": "2024-04-03T14:52:21.103254Z"
    },
    "papermill": {
     "duration": 0.026386,
     "end_time": "2024-04-03T14:52:21.107434",
     "exception": false,
     "start_time": "2024-04-03T14:52:21.081048",
     "status": "completed"
    },
    "tags": []
   },
   "outputs": [
    {
     "data": {
      "application/javascript": [
       "parent.postMessage({\"jupyterEvent\": \"custom.exercise_interaction\", \"data\": {\"interactionType\": 3, \"questionType\": 1, \"questionId\": \"2_NumDeletedPosts\", \"learnToolsVersion\": \"0.3.4\", \"valueTowardsCompletion\": 0.0, \"failureMessage\": \"\", \"exceptionClass\": \"\", \"trace\": \"\", \"outcomeType\": 4}}, \"*\")"
      ],
      "text/plain": [
       "<IPython.core.display.Javascript object>"
      ]
     },
     "metadata": {},
     "output_type": "display_data"
    },
    {
     "data": {
      "text/markdown": [
       "<span style=\"color:#33cc99\">Solution:</span> \n",
       "```python\n",
       "\n",
       "# Query to determine how many posts were deleted\n",
       "deleted_posts_query = \"\"\"\n",
       "                      SELECT COUNT(1) AS num_deleted_posts\n",
       "                      FROM `bigquery-public-data.hacker_news.full`\n",
       "                      WHERE deleted = True\n",
       "                      \"\"\"\n",
       "                      \n",
       "# Set up the query\n",
       "query_job = client.query(deleted_posts_query)\n",
       "\n",
       "# API request - run the query, and return a pandas DataFrame\n",
       "deleted_posts = query_job.to_dataframe()\n",
       "\n",
       "# View results\n",
       "print(deleted_posts)\n",
       "\n",
       "num_deleted_posts = 859401\n",
       "\n",
       "```"
      ],
      "text/plain": [
       "Solution: \n",
       "```python\n",
       "\n",
       "# Query to determine how many posts were deleted\n",
       "deleted_posts_query = \"\"\"\n",
       "                      SELECT COUNT(1) AS num_deleted_posts\n",
       "                      FROM `bigquery-public-data.hacker_news.full`\n",
       "                      WHERE deleted = True\n",
       "                      \"\"\"\n",
       "                      \n",
       "# Set up the query\n",
       "query_job = client.query(deleted_posts_query)\n",
       "\n",
       "# API request - run the query, and return a pandas DataFrame\n",
       "deleted_posts = query_job.to_dataframe()\n",
       "\n",
       "# View results\n",
       "print(deleted_posts)\n",
       "\n",
       "num_deleted_posts = 859401\n",
       "\n",
       "```"
      ]
     },
     "metadata": {},
     "output_type": "display_data"
    }
   ],
   "source": [
    "q_2.solution()"
   ]
  },
  {
   "cell_type": "markdown",
   "id": "59ec7c81",
   "metadata": {
    "papermill": {
     "duration": 0.011007,
     "end_time": "2024-04-03T14:52:21.129482",
     "exception": false,
     "start_time": "2024-04-03T14:52:21.118475",
     "status": "completed"
    },
    "tags": []
   },
   "source": [
    "# Keep Going\n",
    "**[Click here](https://www.kaggle.com/dansbecker/order-by)** to move on and learn about the **ORDER BY** clause."
   ]
  },
  {
   "cell_type": "markdown",
   "id": "e26fcf95",
   "metadata": {
    "papermill": {
     "duration": 0.016202,
     "end_time": "2024-04-03T14:52:21.157005",
     "exception": false,
     "start_time": "2024-04-03T14:52:21.140803",
     "status": "completed"
    },
    "tags": []
   },
   "source": [
    "---\n",
    "\n",
    "\n",
    "\n",
    "\n",
    "*Have questions or comments? Visit the [course discussion forum](https://www.kaggle.com/learn/intro-to-sql/discussion) to chat with other learners.*"
   ]
  }
 ],
 "metadata": {
  "kaggle": {
   "accelerator": "none",
   "dataSources": [
    {
     "datasetId": 6057,
     "sourceId": 285982,
     "sourceType": "datasetVersion"
    }
   ],
   "isGpuEnabled": false,
   "isInternetEnabled": false,
   "language": "python",
   "sourceType": "notebook"
  },
  "kernelspec": {
   "display_name": "Python 3",
   "language": "python",
   "name": "python3"
  },
  "language_info": {
   "codemirror_mode": {
    "name": "ipython",
    "version": 3
   },
   "file_extension": ".py",
   "mimetype": "text/x-python",
   "name": "python",
   "nbconvert_exporter": "python",
   "pygments_lexer": "ipython3",
   "version": "3.10.13"
  },
  "papermill": {
   "default_parameters": {},
   "duration": 19.580791,
   "end_time": "2024-04-03T14:52:22.294988",
   "environment_variables": {},
   "exception": null,
   "input_path": "__notebook__.ipynb",
   "output_path": "__notebook__.ipynb",
   "parameters": {},
   "start_time": "2024-04-03T14:52:02.714197",
   "version": "2.5.0"
  }
 },
 "nbformat": 4,
 "nbformat_minor": 5
}
