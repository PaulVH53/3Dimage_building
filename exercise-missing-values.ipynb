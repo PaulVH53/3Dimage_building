{
 "cells": [
  {
   "cell_type": "markdown",
   "id": "91275b05",
   "metadata": {
    "papermill": {
     "duration": 0.016606,
     "end_time": "2024-04-11T14:24:13.897332",
     "exception": false,
     "start_time": "2024-04-11T14:24:13.880726",
     "status": "completed"
    },
    "tags": []
   },
   "source": [
    "**This notebook is an exercise in the [Intermediate Machine Learning](https://www.kaggle.com/learn/intermediate-machine-learning) course.  You can reference the tutorial at [this link](https://www.kaggle.com/alexisbcook/missing-values).**\n",
    "\n",
    "---\n"
   ]
  },
  {
   "cell_type": "markdown",
   "id": "d27490a5",
   "metadata": {
    "papermill": {
     "duration": 0.015978,
     "end_time": "2024-04-11T14:24:13.929480",
     "exception": false,
     "start_time": "2024-04-11T14:24:13.913502",
     "status": "completed"
    },
    "tags": []
   },
   "source": [
    "Now it's your turn to test your new knowledge of **missing values** handling. You'll probably find it makes a big difference.\n",
    "\n",
    "# Setup\n",
    "\n",
    "The questions will give you feedback on your work. Run the following cell to set up the feedback system."
   ]
  },
  {
   "cell_type": "code",
   "execution_count": 1,
   "id": "432ab9bb",
   "metadata": {
    "execution": {
     "iopub.execute_input": "2024-04-11T14:24:13.963964Z",
     "iopub.status.busy": "2024-04-11T14:24:13.963624Z",
     "iopub.status.idle": "2024-04-11T14:24:14.719007Z",
     "shell.execute_reply": "2024-04-11T14:24:14.718134Z"
    },
    "papermill": {
     "duration": 0.774757,
     "end_time": "2024-04-11T14:24:14.721369",
     "exception": false,
     "start_time": "2024-04-11T14:24:13.946612",
     "status": "completed"
    },
    "tags": []
   },
   "outputs": [
    {
     "name": "stdout",
     "output_type": "stream",
     "text": [
      "Setup Complete\n"
     ]
    }
   ],
   "source": [
    "# Set up code checking\n",
    "import os\n",
    "if not os.path.exists(\"../input/train.csv\"):\n",
    "    os.symlink(\"../input/home-data-for-ml-course/train.csv\", \"../input/train.csv\")  \n",
    "    os.symlink(\"../input/home-data-for-ml-course/test.csv\", \"../input/test.csv\") \n",
    "from learntools.core import binder\n",
    "binder.bind(globals())\n",
    "from learntools.ml_intermediate.ex2 import *\n",
    "print(\"Setup Complete\")"
   ]
  },
  {
   "cell_type": "markdown",
   "id": "b3fe2554",
   "metadata": {
    "papermill": {
     "duration": 0.016235,
     "end_time": "2024-04-11T14:24:14.754323",
     "exception": false,
     "start_time": "2024-04-11T14:24:14.738088",
     "status": "completed"
    },
    "tags": []
   },
   "source": [
    "In this exercise, you will work with data from the [Housing Prices Competition for Kaggle Learn Users](https://www.kaggle.com/c/home-data-for-ml-course). \n",
    "\n",
    "![Ames Housing dataset image](https://storage.googleapis.com/kaggle-media/learn/images/lTJVG4e.png)\n",
    "\n",
    "Run the next code cell without changes to load the training and validation sets in `X_train`, `X_valid`, `y_train`, and `y_valid`.  The test set is loaded in `X_test`."
   ]
  },
  {
   "cell_type": "code",
   "execution_count": 2,
   "id": "13df3011",
   "metadata": {
    "execution": {
     "iopub.execute_input": "2024-04-11T14:24:14.789637Z",
     "iopub.status.busy": "2024-04-11T14:24:14.788803Z",
     "iopub.status.idle": "2024-04-11T14:24:15.986596Z",
     "shell.execute_reply": "2024-04-11T14:24:15.985776Z"
    },
    "papermill": {
     "duration": 1.217836,
     "end_time": "2024-04-11T14:24:15.988926",
     "exception": false,
     "start_time": "2024-04-11T14:24:14.771090",
     "status": "completed"
    },
    "tags": []
   },
   "outputs": [],
   "source": [
    "import pandas as pd\n",
    "import numpy as np\n",
    "from sklearn.model_selection import train_test_split\n",
    "\n",
    "# Read the data\n",
    "X_full = pd.read_csv('../input/train.csv', index_col='Id')\n",
    "X_test_full = pd.read_csv('../input/test.csv', index_col='Id')\n",
    "\n",
    "# Remove rows with missing target, separate target from predictors\n",
    "X_full.dropna(axis=0, subset=['SalePrice'], inplace=True)\n",
    "y = X_full.SalePrice\n",
    "X_full.drop(['SalePrice'], axis=1, inplace=True)\n",
    "\n",
    "# To keep things simple, we'll use only numerical predictors\n",
    "X = X_full.select_dtypes(exclude=['object'])\n",
    "X_test = X_test_full.select_dtypes(exclude=['object'])\n",
    "\n",
    "# Break off validation set from training data\n",
    "X_train, X_valid, y_train, y_valid = train_test_split(X, y, train_size=0.8, test_size=0.2,\n",
    "                                                      random_state=0)"
   ]
  },
  {
   "cell_type": "code",
   "execution_count": 3,
   "id": "85012033",
   "metadata": {
    "execution": {
     "iopub.execute_input": "2024-04-11T14:24:16.025126Z",
     "iopub.status.busy": "2024-04-11T14:24:16.024803Z",
     "iopub.status.idle": "2024-04-11T14:24:16.031777Z",
     "shell.execute_reply": "2024-04-11T14:24:16.030982Z"
    },
    "papermill": {
     "duration": 0.027119,
     "end_time": "2024-04-11T14:24:16.033724",
     "exception": false,
     "start_time": "2024-04-11T14:24:16.006605",
     "status": "completed"
    },
    "tags": []
   },
   "outputs": [
    {
     "data": {
      "text/plain": [
       "(Index(['MSSubClass', 'LotFrontage', 'LotArea', 'OverallQual', 'OverallCond',\n",
       "        'YearBuilt', 'YearRemodAdd', 'MasVnrArea', 'BsmtFinSF1', 'BsmtFinSF2',\n",
       "        'BsmtUnfSF', 'TotalBsmtSF', '1stFlrSF', '2ndFlrSF', 'LowQualFinSF',\n",
       "        'GrLivArea', 'BsmtFullBath', 'BsmtHalfBath', 'FullBath', 'HalfBath',\n",
       "        'BedroomAbvGr', 'KitchenAbvGr', 'TotRmsAbvGrd', 'Fireplaces',\n",
       "        'GarageYrBlt', 'GarageCars', 'GarageArea', 'WoodDeckSF', 'OpenPorchSF',\n",
       "        'EnclosedPorch', '3SsnPorch', 'ScreenPorch', 'PoolArea', 'MiscVal',\n",
       "        'MoSold', 'YrSold'],\n",
       "       dtype='object'),\n",
       " 36)"
      ]
     },
     "execution_count": 3,
     "metadata": {},
     "output_type": "execute_result"
    }
   ],
   "source": [
    "X.columns, len(X.columns.tolist())"
   ]
  },
  {
   "cell_type": "code",
   "execution_count": 4,
   "id": "f00c034b",
   "metadata": {
    "execution": {
     "iopub.execute_input": "2024-04-11T14:24:16.067502Z",
     "iopub.status.busy": "2024-04-11T14:24:16.067227Z",
     "iopub.status.idle": "2024-04-11T14:24:16.072368Z",
     "shell.execute_reply": "2024-04-11T14:24:16.071560Z"
    },
    "papermill": {
     "duration": 0.024126,
     "end_time": "2024-04-11T14:24:16.074254",
     "exception": false,
     "start_time": "2024-04-11T14:24:16.050128",
     "status": "completed"
    },
    "tags": []
   },
   "outputs": [
    {
     "data": {
      "text/plain": [
       "'SalePrice'"
      ]
     },
     "execution_count": 4,
     "metadata": {},
     "output_type": "execute_result"
    }
   ],
   "source": [
    "y.name"
   ]
  },
  {
   "cell_type": "code",
   "execution_count": 5,
   "id": "57a8f549",
   "metadata": {
    "execution": {
     "iopub.execute_input": "2024-04-11T14:24:16.108283Z",
     "iopub.status.busy": "2024-04-11T14:24:16.108026Z",
     "iopub.status.idle": "2024-04-11T14:24:16.113773Z",
     "shell.execute_reply": "2024-04-11T14:24:16.112981Z"
    },
    "papermill": {
     "duration": 0.025028,
     "end_time": "2024-04-11T14:24:16.115698",
     "exception": false,
     "start_time": "2024-04-11T14:24:16.090670",
     "status": "completed"
    },
    "tags": []
   },
   "outputs": [
    {
     "data": {
      "text/plain": [
       "(Index(['MSSubClass', 'LotFrontage', 'LotArea', 'OverallQual', 'OverallCond',\n",
       "        'YearBuilt', 'YearRemodAdd', 'MasVnrArea', 'BsmtFinSF1', 'BsmtFinSF2',\n",
       "        'BsmtUnfSF', 'TotalBsmtSF', '1stFlrSF', '2ndFlrSF', 'LowQualFinSF',\n",
       "        'GrLivArea', 'BsmtFullBath', 'BsmtHalfBath', 'FullBath', 'HalfBath',\n",
       "        'BedroomAbvGr', 'KitchenAbvGr', 'TotRmsAbvGrd', 'Fireplaces',\n",
       "        'GarageYrBlt', 'GarageCars', 'GarageArea', 'WoodDeckSF', 'OpenPorchSF',\n",
       "        'EnclosedPorch', '3SsnPorch', 'ScreenPorch', 'PoolArea', 'MiscVal',\n",
       "        'MoSold', 'YrSold'],\n",
       "       dtype='object'),\n",
       " 36)"
      ]
     },
     "execution_count": 5,
     "metadata": {},
     "output_type": "execute_result"
    }
   ],
   "source": [
    "X_test.columns, len(X_test.columns.tolist())"
   ]
  },
  {
   "cell_type": "markdown",
   "id": "d9931ead",
   "metadata": {
    "papermill": {
     "duration": 0.016758,
     "end_time": "2024-04-11T14:24:16.149285",
     "exception": false,
     "start_time": "2024-04-11T14:24:16.132527",
     "status": "completed"
    },
    "tags": []
   },
   "source": [
    "Use the next code cell to print the first five rows of the data."
   ]
  },
  {
   "cell_type": "markdown",
   "id": "8dfdde26",
   "metadata": {
    "papermill": {
     "duration": 0.016501,
     "end_time": "2024-04-11T14:24:16.182887",
     "exception": false,
     "start_time": "2024-04-11T14:24:16.166386",
     "status": "completed"
    },
    "tags": []
   },
   "source": [
    "You can already see a few missing values in the first several rows.  In the next step, you'll obtain a more comprehensive understanding of the missing values in the dataset.\n",
    "\n",
    "# Step 1: Preliminary investigation\n",
    "\n",
    "Run the code cell below without changes."
   ]
  },
  {
   "cell_type": "code",
   "execution_count": 6,
   "id": "eb86b881",
   "metadata": {
    "execution": {
     "iopub.execute_input": "2024-04-11T14:24:16.217827Z",
     "iopub.status.busy": "2024-04-11T14:24:16.217561Z",
     "iopub.status.idle": "2024-04-11T14:24:16.224023Z",
     "shell.execute_reply": "2024-04-11T14:24:16.223127Z"
    },
    "papermill": {
     "duration": 0.026718,
     "end_time": "2024-04-11T14:24:16.226270",
     "exception": false,
     "start_time": "2024-04-11T14:24:16.199552",
     "status": "completed"
    },
    "tags": []
   },
   "outputs": [
    {
     "name": "stdout",
     "output_type": "stream",
     "text": [
      "(1168, 36)\n",
      "LotFrontage    212\n",
      "MasVnrArea       6\n",
      "GarageYrBlt     58\n",
      "dtype: int64\n"
     ]
    }
   ],
   "source": [
    "# Shape of training data (num_rows, num_columns)\n",
    "print(X_train.shape)\n",
    "\n",
    "# Number of missing values in each column of training data\n",
    "missing_val_count_by_column = (X_train.isnull().sum())\n",
    "print(missing_val_count_by_column[missing_val_count_by_column > 0])"
   ]
  },
  {
   "cell_type": "markdown",
   "id": "60c7dba0",
   "metadata": {
    "papermill": {
     "duration": 0.017366,
     "end_time": "2024-04-11T14:24:16.260573",
     "exception": false,
     "start_time": "2024-04-11T14:24:16.243207",
     "status": "completed"
    },
    "tags": []
   },
   "source": [
    "### Part A\n",
    "\n",
    "Use the above output to answer the questions below."
   ]
  },
  {
   "cell_type": "code",
   "execution_count": 7,
   "id": "897620f8",
   "metadata": {
    "execution": {
     "iopub.execute_input": "2024-04-11T14:24:16.296109Z",
     "iopub.status.busy": "2024-04-11T14:24:16.295771Z",
     "iopub.status.idle": "2024-04-11T14:24:16.304919Z",
     "shell.execute_reply": "2024-04-11T14:24:16.304050Z"
    },
    "papermill": {
     "duration": 0.029236,
     "end_time": "2024-04-11T14:24:16.307024",
     "exception": false,
     "start_time": "2024-04-11T14:24:16.277788",
     "status": "completed"
    },
    "tags": []
   },
   "outputs": [
    {
     "data": {
      "application/javascript": [
       "parent.postMessage({\"jupyterEvent\": \"custom.exercise_interaction\", \"data\": {\"outcomeType\": 1, \"valueTowardsCompletion\": 1.0, \"interactionType\": 1, \"questionType\": 1, \"questionId\": \"1.1_InvestigateEquality\", \"learnToolsVersion\": \"0.3.4\", \"failureMessage\": \"\", \"exceptionClass\": \"\", \"trace\": \"\"}}, \"*\")"
      ],
      "text/plain": [
       "<IPython.core.display.Javascript object>"
      ]
     },
     "metadata": {},
     "output_type": "display_data"
    },
    {
     "data": {
      "text/markdown": [
       "<span style=\"color:#33cc33\">Correct</span>"
      ],
      "text/plain": [
       "Correct"
      ]
     },
     "metadata": {},
     "output_type": "display_data"
    }
   ],
   "source": [
    "# Fill in the line below: How many rows are in the training data?\n",
    "num_rows = X_train.shape[0]\n",
    "\n",
    "# Fill in the line below: How many columns in the training data\n",
    "# have missing values?\n",
    "num_cols_with_missing = len(missing_val_count_by_column[missing_val_count_by_column > 0])\n",
    "\n",
    "# Fill in the line below: How many missing entries are contained in \n",
    "# all of the training data?\n",
    "tot_missing = sum(missing_val_count_by_column)\n",
    "\n",
    "# Check your answers\n",
    "step_1.a.check()"
   ]
  },
  {
   "cell_type": "code",
   "execution_count": 8,
   "id": "c5fc3105",
   "metadata": {
    "execution": {
     "iopub.execute_input": "2024-04-11T14:24:16.343414Z",
     "iopub.status.busy": "2024-04-11T14:24:16.343102Z",
     "iopub.status.idle": "2024-04-11T14:24:16.353709Z",
     "shell.execute_reply": "2024-04-11T14:24:16.352764Z"
    },
    "papermill": {
     "duration": 0.031025,
     "end_time": "2024-04-11T14:24:16.355611",
     "exception": false,
     "start_time": "2024-04-11T14:24:16.324586",
     "status": "completed"
    },
    "tags": []
   },
   "outputs": [
    {
     "data": {
      "application/javascript": [
       "parent.postMessage({\"jupyterEvent\": \"custom.exercise_interaction\", \"data\": {\"interactionType\": 2, \"questionType\": 1, \"questionId\": \"1.1_InvestigateEquality\", \"learnToolsVersion\": \"0.3.4\", \"valueTowardsCompletion\": 0.0, \"failureMessage\": \"\", \"exceptionClass\": \"\", \"trace\": \"\", \"outcomeType\": 4}}, \"*\")"
      ],
      "text/plain": [
       "<IPython.core.display.Javascript object>"
      ]
     },
     "metadata": {},
     "output_type": "display_data"
    },
    {
     "data": {
      "text/markdown": [
       "<span style=\"color:#3366cc\">Hint:</span> Use the output of `X_train.shape` to get the number of rows and columns in the training data.  The `missing_val_count_by_column` Series has an entry for each column in the data, and the output above prints the number of missing entries for each column with at least one missing entry."
      ],
      "text/plain": [
       "Hint: Use the output of `X_train.shape` to get the number of rows and columns in the training data.  The `missing_val_count_by_column` Series has an entry for each column in the data, and the output above prints the number of missing entries for each column with at least one missing entry."
      ]
     },
     "metadata": {},
     "output_type": "display_data"
    },
    {
     "data": {
      "application/javascript": [
       "parent.postMessage({\"jupyterEvent\": \"custom.exercise_interaction\", \"data\": {\"interactionType\": 3, \"questionType\": 1, \"questionId\": \"1.1_InvestigateEquality\", \"learnToolsVersion\": \"0.3.4\", \"valueTowardsCompletion\": 0.0, \"failureMessage\": \"\", \"exceptionClass\": \"\", \"trace\": \"\", \"outcomeType\": 4}}, \"*\")"
      ],
      "text/plain": [
       "<IPython.core.display.Javascript object>"
      ]
     },
     "metadata": {},
     "output_type": "display_data"
    },
    {
     "data": {
      "text/markdown": [
       "<span style=\"color:#33cc99\">Solution:</span> \n",
       "```python\n",
       "# How many rows are in the training data?\n",
       "num_rows = 1168\n",
       "\n",
       "# How many columns in the training data have missing values?\n",
       "num_cols_with_missing = 3\n",
       "\n",
       "# How many missing entries are contained in all of the training data?\n",
       "tot_missing = 212 + 6 + 58\n",
       "\n",
       "```"
      ],
      "text/plain": [
       "Solution: \n",
       "```python\n",
       "# How many rows are in the training data?\n",
       "num_rows = 1168\n",
       "\n",
       "# How many columns in the training data have missing values?\n",
       "num_cols_with_missing = 3\n",
       "\n",
       "# How many missing entries are contained in all of the training data?\n",
       "tot_missing = 212 + 6 + 58\n",
       "\n",
       "```"
      ]
     },
     "metadata": {},
     "output_type": "display_data"
    }
   ],
   "source": [
    "# Lines below will give you a hint or solution code\n",
    "step_1.a.hint()\n",
    "step_1.a.solution()"
   ]
  },
  {
   "cell_type": "markdown",
   "id": "5e20e4be",
   "metadata": {
    "papermill": {
     "duration": 0.017685,
     "end_time": "2024-04-11T14:24:16.391485",
     "exception": false,
     "start_time": "2024-04-11T14:24:16.373800",
     "status": "completed"
    },
    "tags": []
   },
   "source": [
    "### Part B\n",
    "Considering your answers above, what do you think is likely the best approach to dealing with the missing values?"
   ]
  },
  {
   "cell_type": "code",
   "execution_count": 9,
   "id": "dd515562",
   "metadata": {
    "execution": {
     "iopub.execute_input": "2024-04-11T14:24:16.429393Z",
     "iopub.status.busy": "2024-04-11T14:24:16.429054Z",
     "iopub.status.idle": "2024-04-11T14:24:16.436766Z",
     "shell.execute_reply": "2024-04-11T14:24:16.435870Z"
    },
    "papermill": {
     "duration": 0.029215,
     "end_time": "2024-04-11T14:24:16.438757",
     "exception": false,
     "start_time": "2024-04-11T14:24:16.409542",
     "status": "completed"
    },
    "tags": []
   },
   "outputs": [
    {
     "data": {
      "application/javascript": [
       "parent.postMessage({\"jupyterEvent\": \"custom.exercise_interaction\", \"data\": {\"outcomeType\": 1, \"valueTowardsCompletion\": 1.0, \"interactionType\": 1, \"questionType\": 4, \"questionId\": \"1.2_InvestigateThought\", \"learnToolsVersion\": \"0.3.4\", \"failureMessage\": \"\", \"exceptionClass\": \"\", \"trace\": \"\"}}, \"*\")"
      ],
      "text/plain": [
       "<IPython.core.display.Javascript object>"
      ]
     },
     "metadata": {},
     "output_type": "display_data"
    },
    {
     "data": {
      "text/markdown": [
       "<span style=\"color:#33cc33\">Correct:</span> \n",
       "\n",
       "Since there are relatively few missing entries in the data (the column with the greatest percentage of missing values is missing less than 20% of its entries), we can expect that dropping columns is unlikely to yield good results.  This is because we'd be throwing away a lot of valuable data, and so imputation will likely perform better."
      ],
      "text/plain": [
       "Correct: \n",
       "\n",
       "Since there are relatively few missing entries in the data (the column with the greatest percentage of missing values is missing less than 20% of its entries), we can expect that dropping columns is unlikely to yield good results.  This is because we'd be throwing away a lot of valuable data, and so imputation will likely perform better."
      ]
     },
     "metadata": {},
     "output_type": "display_data"
    }
   ],
   "source": [
    "# Check your answer (Run this code cell to receive credit!)\n",
    "\"Imputation\"\n",
    "step_1.b.check()"
   ]
  },
  {
   "cell_type": "code",
   "execution_count": 10,
   "id": "7a794c5b",
   "metadata": {
    "execution": {
     "iopub.execute_input": "2024-04-11T14:24:16.476791Z",
     "iopub.status.busy": "2024-04-11T14:24:16.476516Z",
     "iopub.status.idle": "2024-04-11T14:24:16.483632Z",
     "shell.execute_reply": "2024-04-11T14:24:16.482828Z"
    },
    "papermill": {
     "duration": 0.028369,
     "end_time": "2024-04-11T14:24:16.485652",
     "exception": false,
     "start_time": "2024-04-11T14:24:16.457283",
     "status": "completed"
    },
    "tags": []
   },
   "outputs": [
    {
     "data": {
      "application/javascript": [
       "parent.postMessage({\"jupyterEvent\": \"custom.exercise_interaction\", \"data\": {\"interactionType\": 2, \"questionType\": 4, \"questionId\": \"1.2_InvestigateThought\", \"learnToolsVersion\": \"0.3.4\", \"valueTowardsCompletion\": 0.0, \"failureMessage\": \"\", \"exceptionClass\": \"\", \"trace\": \"\", \"outcomeType\": 4}}, \"*\")"
      ],
      "text/plain": [
       "<IPython.core.display.Javascript object>"
      ]
     },
     "metadata": {},
     "output_type": "display_data"
    },
    {
     "data": {
      "text/markdown": [
       "<span style=\"color:#3366cc\">Hint:</span> Does the dataset have a lot of missing values, or just a few?  Would we lose much information if we completely ignored the columns with missing entries?"
      ],
      "text/plain": [
       "Hint: Does the dataset have a lot of missing values, or just a few?  Would we lose much information if we completely ignored the columns with missing entries?"
      ]
     },
     "metadata": {},
     "output_type": "display_data"
    }
   ],
   "source": [
    "step_1.b.hint()"
   ]
  },
  {
   "cell_type": "markdown",
   "id": "665b716a",
   "metadata": {
    "papermill": {
     "duration": 0.018923,
     "end_time": "2024-04-11T14:24:16.522929",
     "exception": false,
     "start_time": "2024-04-11T14:24:16.504006",
     "status": "completed"
    },
    "tags": []
   },
   "source": [
    "To compare different approaches to dealing with missing values, you'll use the same `score_dataset()` function from the tutorial.  This function reports the [mean absolute error](https://en.wikipedia.org/wiki/Mean_absolute_error) (MAE) from a random forest model."
   ]
  },
  {
   "cell_type": "code",
   "execution_count": 11,
   "id": "2528c261",
   "metadata": {
    "execution": {
     "iopub.execute_input": "2024-04-11T14:24:16.560791Z",
     "iopub.status.busy": "2024-04-11T14:24:16.560486Z",
     "iopub.status.idle": "2024-04-11T14:24:16.818379Z",
     "shell.execute_reply": "2024-04-11T14:24:16.817419Z"
    },
    "papermill": {
     "duration": 0.279559,
     "end_time": "2024-04-11T14:24:16.820792",
     "exception": false,
     "start_time": "2024-04-11T14:24:16.541233",
     "status": "completed"
    },
    "tags": []
   },
   "outputs": [],
   "source": [
    "from sklearn.ensemble import RandomForestRegressor\n",
    "from sklearn.metrics import mean_absolute_error\n",
    "\n",
    "# Function for comparing different approaches\n",
    "def score_dataset(X_train, X_valid, y_train, y_valid):\n",
    "    model = RandomForestRegressor(n_estimators=100, random_state=0)\n",
    "    model.fit(X_train, y_train)\n",
    "    preds = model.predict(X_valid)\n",
    "    return mean_absolute_error(y_valid, preds)"
   ]
  },
  {
   "cell_type": "markdown",
   "id": "1df13ec6",
   "metadata": {
    "papermill": {
     "duration": 0.017735,
     "end_time": "2024-04-11T14:24:16.857663",
     "exception": false,
     "start_time": "2024-04-11T14:24:16.839928",
     "status": "completed"
    },
    "tags": []
   },
   "source": [
    "# Step 2: Drop columns with missing values\n",
    "\n",
    "In this step, you'll preprocess the data in `X_train` and `X_valid` to remove columns with missing values.  Set the preprocessed DataFrames to `reduced_X_train` and `reduced_X_valid`, respectively.  "
   ]
  },
  {
   "cell_type": "code",
   "execution_count": 12,
   "id": "da8d181f",
   "metadata": {
    "execution": {
     "iopub.execute_input": "2024-04-11T14:24:16.933650Z",
     "iopub.status.busy": "2024-04-11T14:24:16.933316Z",
     "iopub.status.idle": "2024-04-11T14:24:16.956519Z",
     "shell.execute_reply": "2024-04-11T14:24:16.955708Z"
    },
    "papermill": {
     "duration": 0.082861,
     "end_time": "2024-04-11T14:24:16.958462",
     "exception": false,
     "start_time": "2024-04-11T14:24:16.875601",
     "status": "completed"
    },
    "tags": []
   },
   "outputs": [
    {
     "data": {
      "application/javascript": [
       "parent.postMessage({\"jupyterEvent\": \"custom.exercise_interaction\", \"data\": {\"outcomeType\": 1, \"valueTowardsCompletion\": 1.0, \"interactionType\": 1, \"questionType\": 2, \"questionId\": \"2_DropMissing\", \"learnToolsVersion\": \"0.3.4\", \"failureMessage\": \"\", \"exceptionClass\": \"\", \"trace\": \"\"}}, \"*\")"
      ],
      "text/plain": [
       "<IPython.core.display.Javascript object>"
      ]
     },
     "metadata": {},
     "output_type": "display_data"
    },
    {
     "data": {
      "text/markdown": [
       "<span style=\"color:#33cc33\">Correct</span>"
      ],
      "text/plain": [
       "Correct"
      ]
     },
     "metadata": {},
     "output_type": "display_data"
    }
   ],
   "source": [
    "# Fill in the line below: get names of columns with missing values\n",
    "cols_with_missing = [col for col in X_train.columns\n",
    "                     if X_train[col].isnull().any()] # Your code here\n",
    "\n",
    "# Fill in the lines below: drop columns in training and validation data\n",
    "reduced_X_train = X_train.drop(cols_with_missing, axis=1)\n",
    "reduced_X_valid = X_valid.drop(cols_with_missing, axis=1)\n",
    "\n",
    "# Check your answers\n",
    "step_2.check()"
   ]
  },
  {
   "cell_type": "code",
   "execution_count": 13,
   "id": "cdabcf3a",
   "metadata": {
    "execution": {
     "iopub.execute_input": "2024-04-11T14:24:16.996425Z",
     "iopub.status.busy": "2024-04-11T14:24:16.996152Z",
     "iopub.status.idle": "2024-04-11T14:24:17.006143Z",
     "shell.execute_reply": "2024-04-11T14:24:17.005231Z"
    },
    "papermill": {
     "duration": 0.03105,
     "end_time": "2024-04-11T14:24:17.008226",
     "exception": false,
     "start_time": "2024-04-11T14:24:16.977176",
     "status": "completed"
    },
    "tags": []
   },
   "outputs": [
    {
     "data": {
      "application/javascript": [
       "parent.postMessage({\"jupyterEvent\": \"custom.exercise_interaction\", \"data\": {\"interactionType\": 2, \"questionType\": 2, \"questionId\": \"2_DropMissing\", \"learnToolsVersion\": \"0.3.4\", \"valueTowardsCompletion\": 0.0, \"failureMessage\": \"\", \"exceptionClass\": \"\", \"trace\": \"\", \"outcomeType\": 4}}, \"*\")"
      ],
      "text/plain": [
       "<IPython.core.display.Javascript object>"
      ]
     },
     "metadata": {},
     "output_type": "display_data"
    },
    {
     "data": {
      "text/markdown": [
       "<span style=\"color:#3366cc\">Hint:</span> Begin by finding the list of columns in the data with missing values.  Then, drop these columns in both the training and validation data with the `drop()` method."
      ],
      "text/plain": [
       "Hint: Begin by finding the list of columns in the data with missing values.  Then, drop these columns in both the training and validation data with the `drop()` method."
      ]
     },
     "metadata": {},
     "output_type": "display_data"
    },
    {
     "data": {
      "application/javascript": [
       "parent.postMessage({\"jupyterEvent\": \"custom.exercise_interaction\", \"data\": {\"interactionType\": 3, \"questionType\": 2, \"questionId\": \"2_DropMissing\", \"learnToolsVersion\": \"0.3.4\", \"valueTowardsCompletion\": 0.0, \"failureMessage\": \"\", \"exceptionClass\": \"\", \"trace\": \"\", \"outcomeType\": 4}}, \"*\")"
      ],
      "text/plain": [
       "<IPython.core.display.Javascript object>"
      ]
     },
     "metadata": {},
     "output_type": "display_data"
    },
    {
     "data": {
      "text/markdown": [
       "<span style=\"color:#33cc99\">Solution:</span> \n",
       "```python\n",
       "# Get names of columns with missing values\n",
       "cols_with_missing = [col for col in X_train.columns\n",
       "                     if X_train[col].isnull().any()]\n",
       "\n",
       "# Drop columns in training and validation data\n",
       "reduced_X_train = X_train.drop(cols_with_missing, axis=1)\n",
       "reduced_X_valid = X_valid.drop(cols_with_missing, axis=1)\n",
       "\n",
       "```"
      ],
      "text/plain": [
       "Solution: \n",
       "```python\n",
       "# Get names of columns with missing values\n",
       "cols_with_missing = [col for col in X_train.columns\n",
       "                     if X_train[col].isnull().any()]\n",
       "\n",
       "# Drop columns in training and validation data\n",
       "reduced_X_train = X_train.drop(cols_with_missing, axis=1)\n",
       "reduced_X_valid = X_valid.drop(cols_with_missing, axis=1)\n",
       "\n",
       "```"
      ]
     },
     "metadata": {},
     "output_type": "display_data"
    }
   ],
   "source": [
    "# Lines below will give you a hint or solution code\n",
    "step_2.hint()\n",
    "step_2.solution()"
   ]
  },
  {
   "cell_type": "markdown",
   "id": "e2cf7470",
   "metadata": {
    "papermill": {
     "duration": 0.018762,
     "end_time": "2024-04-11T14:24:17.045827",
     "exception": false,
     "start_time": "2024-04-11T14:24:17.027065",
     "status": "completed"
    },
    "tags": []
   },
   "source": [
    "Run the next code cell without changes to obtain the MAE for this approach."
   ]
  },
  {
   "cell_type": "code",
   "execution_count": 14,
   "id": "bf67c962",
   "metadata": {
    "execution": {
     "iopub.execute_input": "2024-04-11T14:24:17.084844Z",
     "iopub.status.busy": "2024-04-11T14:24:17.084598Z",
     "iopub.status.idle": "2024-04-11T14:24:18.196305Z",
     "shell.execute_reply": "2024-04-11T14:24:18.195407Z"
    },
    "papermill": {
     "duration": 1.133859,
     "end_time": "2024-04-11T14:24:18.198830",
     "exception": false,
     "start_time": "2024-04-11T14:24:17.064971",
     "status": "completed"
    },
    "tags": []
   },
   "outputs": [
    {
     "name": "stdout",
     "output_type": "stream",
     "text": [
      "MAE (Drop columns with missing values):\n",
      "17837.82570776256\n"
     ]
    }
   ],
   "source": [
    "print(\"MAE (Drop columns with missing values):\")\n",
    "print(score_dataset(reduced_X_train, reduced_X_valid, y_train, y_valid))"
   ]
  },
  {
   "cell_type": "markdown",
   "id": "f2491c57",
   "metadata": {
    "papermill": {
     "duration": 0.018856,
     "end_time": "2024-04-11T14:24:18.237348",
     "exception": false,
     "start_time": "2024-04-11T14:24:18.218492",
     "status": "completed"
    },
    "tags": []
   },
   "source": [
    "# Step 3: Imputation\n",
    "\n",
    "### Part A\n",
    "\n",
    "Use the next code cell to impute missing values with the mean value along each column.  Set the preprocessed DataFrames to `imputed_X_train` and `imputed_X_valid`.  Make sure that the column names match those in `X_train` and `X_valid`."
   ]
  },
  {
   "cell_type": "code",
   "execution_count": 15,
   "id": "a25a78b9",
   "metadata": {
    "execution": {
     "iopub.execute_input": "2024-04-11T14:24:18.277474Z",
     "iopub.status.busy": "2024-04-11T14:24:18.276885Z",
     "iopub.status.idle": "2024-04-11T14:24:18.304817Z",
     "shell.execute_reply": "2024-04-11T14:24:18.303985Z"
    },
    "papermill": {
     "duration": 0.050492,
     "end_time": "2024-04-11T14:24:18.306861",
     "exception": false,
     "start_time": "2024-04-11T14:24:18.256369",
     "status": "completed"
    },
    "tags": []
   },
   "outputs": [
    {
     "data": {
      "application/javascript": [
       "parent.postMessage({\"jupyterEvent\": \"custom.exercise_interaction\", \"data\": {\"outcomeType\": 1, \"valueTowardsCompletion\": 1.0, \"interactionType\": 1, \"questionType\": 2, \"questionId\": \"3.1_ImputeCode\", \"learnToolsVersion\": \"0.3.4\", \"failureMessage\": \"\", \"exceptionClass\": \"\", \"trace\": \"\"}}, \"*\")"
      ],
      "text/plain": [
       "<IPython.core.display.Javascript object>"
      ]
     },
     "metadata": {},
     "output_type": "display_data"
    },
    {
     "data": {
      "text/markdown": [
       "<span style=\"color:#33cc33\">Correct</span>"
      ],
      "text/plain": [
       "Correct"
      ]
     },
     "metadata": {},
     "output_type": "display_data"
    }
   ],
   "source": [
    "from sklearn.impute import SimpleImputer\n",
    "\n",
    "# Fill in the lines below: imputation\n",
    "my_imputer = SimpleImputer() # Your code here\n",
    "imputed_X_train = pd.DataFrame(my_imputer.fit_transform(X_train))\n",
    "imputed_X_valid = pd.DataFrame(my_imputer.transform(X_valid))\n",
    "\n",
    "# Fill in the lines below: imputation removed column names; put them back\n",
    "imputed_X_train.columns = X_train.columns\n",
    "imputed_X_valid.columns = X_valid.columns\n",
    "\n",
    "# Check your answers\n",
    "step_3.a.check()"
   ]
  },
  {
   "cell_type": "code",
   "execution_count": 16,
   "id": "791e0779",
   "metadata": {
    "execution": {
     "iopub.execute_input": "2024-04-11T14:24:18.347101Z",
     "iopub.status.busy": "2024-04-11T14:24:18.346616Z",
     "iopub.status.idle": "2024-04-11T14:24:18.350189Z",
     "shell.execute_reply": "2024-04-11T14:24:18.349359Z"
    },
    "papermill": {
     "duration": 0.025513,
     "end_time": "2024-04-11T14:24:18.352144",
     "exception": false,
     "start_time": "2024-04-11T14:24:18.326631",
     "status": "completed"
    },
    "tags": []
   },
   "outputs": [],
   "source": [
    "# Lines below will give you a hint or solution code\n",
    "#step_3.a.hint()\n",
    "#step_3.a.solution()"
   ]
  },
  {
   "cell_type": "markdown",
   "id": "3cd1c7a6",
   "metadata": {
    "papermill": {
     "duration": 0.019074,
     "end_time": "2024-04-11T14:24:18.390430",
     "exception": false,
     "start_time": "2024-04-11T14:24:18.371356",
     "status": "completed"
    },
    "tags": []
   },
   "source": [
    "Run the next code cell without changes to obtain the MAE for this approach."
   ]
  },
  {
   "cell_type": "code",
   "execution_count": 17,
   "id": "aa4250b0",
   "metadata": {
    "execution": {
     "iopub.execute_input": "2024-04-11T14:24:18.430570Z",
     "iopub.status.busy": "2024-04-11T14:24:18.429828Z",
     "iopub.status.idle": "2024-04-11T14:24:19.656318Z",
     "shell.execute_reply": "2024-04-11T14:24:19.655434Z"
    },
    "papermill": {
     "duration": 1.248741,
     "end_time": "2024-04-11T14:24:19.658457",
     "exception": false,
     "start_time": "2024-04-11T14:24:18.409716",
     "status": "completed"
    },
    "tags": []
   },
   "outputs": [
    {
     "name": "stdout",
     "output_type": "stream",
     "text": [
      "MAE (Imputation):\n",
      "18062.894611872147\n"
     ]
    }
   ],
   "source": [
    "print(\"MAE (Imputation):\")\n",
    "print(score_dataset(imputed_X_train, imputed_X_valid, y_train, y_valid))"
   ]
  },
  {
   "cell_type": "markdown",
   "id": "14388851",
   "metadata": {
    "papermill": {
     "duration": 0.020698,
     "end_time": "2024-04-11T14:24:19.699285",
     "exception": false,
     "start_time": "2024-04-11T14:24:19.678587",
     "status": "completed"
    },
    "tags": []
   },
   "source": [
    "### Part B\n",
    "\n",
    "Compare the MAE from each approach.  Does anything surprise you about the results?  Why do you think one approach performed better than the other?"
   ]
  },
  {
   "cell_type": "code",
   "execution_count": 18,
   "id": "a119cd53",
   "metadata": {
    "execution": {
     "iopub.execute_input": "2024-04-11T14:24:19.740064Z",
     "iopub.status.busy": "2024-04-11T14:24:19.739719Z",
     "iopub.status.idle": "2024-04-11T14:24:19.747188Z",
     "shell.execute_reply": "2024-04-11T14:24:19.746338Z"
    },
    "papermill": {
     "duration": 0.030204,
     "end_time": "2024-04-11T14:24:19.749182",
     "exception": false,
     "start_time": "2024-04-11T14:24:19.718978",
     "status": "completed"
    },
    "tags": []
   },
   "outputs": [
    {
     "data": {
      "application/javascript": [
       "parent.postMessage({\"jupyterEvent\": \"custom.exercise_interaction\", \"data\": {\"outcomeType\": 1, \"valueTowardsCompletion\": 1.0, \"interactionType\": 1, \"questionType\": 4, \"questionId\": \"3.2_ImputeThought\", \"learnToolsVersion\": \"0.3.4\", \"failureMessage\": \"\", \"exceptionClass\": \"\", \"trace\": \"\"}}, \"*\")"
      ],
      "text/plain": [
       "<IPython.core.display.Javascript object>"
      ]
     },
     "metadata": {},
     "output_type": "display_data"
    },
    {
     "data": {
      "text/markdown": [
       "<span style=\"color:#33cc33\">Correct:</span> \n",
       "\n",
       "Given that thre are so few missing values in the dataset, we'd expect imputation to perform better than dropping columns entirely.  However, we see that dropping columns performs slightly better!  While this can probably partially be attributed to noise in the dataset, another potential explanation is that the imputation method is not a great match to this dataset.  That is, maybe instead of filling in the mean value, it makes more sense to set every missing value to a value of 0, to fill in the most frequently encountered value, or to use some other method.  For instance, consider the `GarageYrBlt` column (which indicates the year that the garage was built).  It's likely that in some cases, a missing value could indicate a house that does not have a garage.  Does it make more sense to fill in the median value along each column in this case?  Or could we get better results by filling in the minimum value along each column?  It's not quite clear what's best in this case, but perhaps we can rule out some options immediately - for instance, setting missing values in this column to 0 is likely to yield horrible results!"
      ],
      "text/plain": [
       "Correct: \n",
       "\n",
       "Given that thre are so few missing values in the dataset, we'd expect imputation to perform better than dropping columns entirely.  However, we see that dropping columns performs slightly better!  While this can probably partially be attributed to noise in the dataset, another potential explanation is that the imputation method is not a great match to this dataset.  That is, maybe instead of filling in the mean value, it makes more sense to set every missing value to a value of 0, to fill in the most frequently encountered value, or to use some other method.  For instance, consider the `GarageYrBlt` column (which indicates the year that the garage was built).  It's likely that in some cases, a missing value could indicate a house that does not have a garage.  Does it make more sense to fill in the median value along each column in this case?  Or could we get better results by filling in the minimum value along each column?  It's not quite clear what's best in this case, but perhaps we can rule out some options immediately - for instance, setting missing values in this column to 0 is likely to yield horrible results!"
      ]
     },
     "metadata": {},
     "output_type": "display_data"
    }
   ],
   "source": [
    "# Check your answer (Run this code cell to receive credit!)\n",
    "\"imputation of means might not be the most accurate\"\n",
    "step_3.b.check()"
   ]
  },
  {
   "cell_type": "code",
   "execution_count": 19,
   "id": "6ded5e46",
   "metadata": {
    "execution": {
     "iopub.execute_input": "2024-04-11T14:24:19.789979Z",
     "iopub.status.busy": "2024-04-11T14:24:19.789422Z",
     "iopub.status.idle": "2024-04-11T14:24:19.796186Z",
     "shell.execute_reply": "2024-04-11T14:24:19.795390Z"
    },
    "papermill": {
     "duration": 0.029315,
     "end_time": "2024-04-11T14:24:19.798136",
     "exception": false,
     "start_time": "2024-04-11T14:24:19.768821",
     "status": "completed"
    },
    "tags": []
   },
   "outputs": [
    {
     "data": {
      "application/javascript": [
       "parent.postMessage({\"jupyterEvent\": \"custom.exercise_interaction\", \"data\": {\"interactionType\": 2, \"questionType\": 4, \"questionId\": \"3.2_ImputeThought\", \"learnToolsVersion\": \"0.3.4\", \"valueTowardsCompletion\": 0.0, \"failureMessage\": \"\", \"exceptionClass\": \"\", \"trace\": \"\", \"outcomeType\": 4}}, \"*\")"
      ],
      "text/plain": [
       "<IPython.core.display.Javascript object>"
      ]
     },
     "metadata": {},
     "output_type": "display_data"
    },
    {
     "data": {
      "text/markdown": [
       "<span style=\"color:#3366cc\">Hint:</span> Did removing missing values yield a larger or smaller MAE than imputation? Does this agree with the coding example from the tutorial?"
      ],
      "text/plain": [
       "Hint: Did removing missing values yield a larger or smaller MAE than imputation? Does this agree with the coding example from the tutorial?"
      ]
     },
     "metadata": {},
     "output_type": "display_data"
    }
   ],
   "source": [
    "step_3.b.hint()"
   ]
  },
  {
   "cell_type": "markdown",
   "id": "66c85edb",
   "metadata": {
    "papermill": {
     "duration": 0.020014,
     "end_time": "2024-04-11T14:24:19.838370",
     "exception": false,
     "start_time": "2024-04-11T14:24:19.818356",
     "status": "completed"
    },
    "tags": []
   },
   "source": [
    "# Step 4: Generate test predictions\n",
    "\n",
    "In this final step, you'll use any approach of your choosing to deal with missing values.  Once you've preprocessed the training and validation features, you'll train and evaluate a random forest model.  Then, you'll preprocess the test data before generating predictions that can be submitted to the competition!\n",
    "\n",
    "### Part A\n",
    "\n",
    "Use the next code cell to preprocess the training and validation data.  Set the preprocessed DataFrames to `final_X_train` and `final_X_valid`.  **You can use any approach of your choosing here!**  in order for this step to be marked as correct, you need only ensure:\n",
    "- the preprocessed DataFrames have the same number of columns,\n",
    "- the preprocessed DataFrames have no missing values, \n",
    "- `final_X_train` and `y_train` have the same number of rows, and\n",
    "- `final_X_valid` and `y_valid` have the same number of rows."
   ]
  },
  {
   "cell_type": "code",
   "execution_count": 20,
   "id": "286ad565",
   "metadata": {
    "execution": {
     "iopub.execute_input": "2024-04-11T14:24:19.879626Z",
     "iopub.status.busy": "2024-04-11T14:24:19.879355Z",
     "iopub.status.idle": "2024-04-11T14:24:19.885090Z",
     "shell.execute_reply": "2024-04-11T14:24:19.884183Z"
    },
    "papermill": {
     "duration": 0.028373,
     "end_time": "2024-04-11T14:24:19.886894",
     "exception": false,
     "start_time": "2024-04-11T14:24:19.858521",
     "status": "completed"
    },
    "tags": []
   },
   "outputs": [
    {
     "data": {
      "text/plain": [
       "((1168, 36), (292, 36))"
      ]
     },
     "execution_count": 20,
     "metadata": {},
     "output_type": "execute_result"
    }
   ],
   "source": [
    "X_train.shape, X_valid.shape"
   ]
  },
  {
   "cell_type": "code",
   "execution_count": 21,
   "id": "e1d2a376",
   "metadata": {
    "execution": {
     "iopub.execute_input": "2024-04-11T14:24:19.928091Z",
     "iopub.status.busy": "2024-04-11T14:24:19.927808Z",
     "iopub.status.idle": "2024-04-11T14:24:19.932951Z",
     "shell.execute_reply": "2024-04-11T14:24:19.932192Z"
    },
    "papermill": {
     "duration": 0.028166,
     "end_time": "2024-04-11T14:24:19.935088",
     "exception": false,
     "start_time": "2024-04-11T14:24:19.906922",
     "status": "completed"
    },
    "tags": []
   },
   "outputs": [
    {
     "data": {
      "text/plain": [
       "((1168,), (292,))"
      ]
     },
     "execution_count": 21,
     "metadata": {},
     "output_type": "execute_result"
    }
   ],
   "source": [
    "y_train.shape, y_valid.shape"
   ]
  },
  {
   "cell_type": "code",
   "execution_count": 22,
   "id": "d68b0f52",
   "metadata": {
    "execution": {
     "iopub.execute_input": "2024-04-11T14:24:19.977326Z",
     "iopub.status.busy": "2024-04-11T14:24:19.976569Z",
     "iopub.status.idle": "2024-04-11T14:24:20.004223Z",
     "shell.execute_reply": "2024-04-11T14:24:20.003417Z"
    },
    "papermill": {
     "duration": 0.050736,
     "end_time": "2024-04-11T14:24:20.006125",
     "exception": false,
     "start_time": "2024-04-11T14:24:19.955389",
     "status": "completed"
    },
    "tags": []
   },
   "outputs": [
    {
     "name": "stdout",
     "output_type": "stream",
     "text": [
      "Index(['BsmtFinSF2', 'LowQualFinSF', 'BsmtHalfBath', 'PoolArea', 'MiscVal'], dtype='object')\n"
     ]
    }
   ],
   "source": [
    "# Strategy: Find the features with low correlation to SalePrice and drop them\n",
    "correlation_matrix = X_train.corrwith(y_train)\n",
    "low_correlation_cols = correlation_matrix[abs(correlation_matrix) < 0.04].index\n",
    "print(low_correlation_cols)\n",
    "# Copying the original DataFrames to new ones without modifying the originals\n",
    "final_X = X.drop(columns=low_correlation_cols)\n",
    "final_X_train = X_train.drop(columns=low_correlation_cols)\n",
    "final_X_valid = X_valid.drop(columns=low_correlation_cols)\n",
    "final_X_test = X_test.drop(columns=low_correlation_cols)"
   ]
  },
  {
   "cell_type": "code",
   "execution_count": 23,
   "id": "7b45ae82",
   "metadata": {
    "execution": {
     "iopub.execute_input": "2024-04-11T14:24:20.048763Z",
     "iopub.status.busy": "2024-04-11T14:24:20.048496Z",
     "iopub.status.idle": "2024-04-11T14:24:20.053914Z",
     "shell.execute_reply": "2024-04-11T14:24:20.053257Z"
    },
    "papermill": {
     "duration": 0.028758,
     "end_time": "2024-04-11T14:24:20.055852",
     "exception": false,
     "start_time": "2024-04-11T14:24:20.027094",
     "status": "completed"
    },
    "tags": []
   },
   "outputs": [
    {
     "data": {
      "text/plain": [
       "((1460, 36), (1168, 36), (292, 36), (1459, 36))"
      ]
     },
     "execution_count": 23,
     "metadata": {},
     "output_type": "execute_result"
    }
   ],
   "source": [
    "X.shape, X_train.shape, X_valid.shape, X_test.shape"
   ]
  },
  {
   "cell_type": "code",
   "execution_count": 24,
   "id": "b086f59d",
   "metadata": {
    "execution": {
     "iopub.execute_input": "2024-04-11T14:24:20.098270Z",
     "iopub.status.busy": "2024-04-11T14:24:20.098010Z",
     "iopub.status.idle": "2024-04-11T14:24:20.103520Z",
     "shell.execute_reply": "2024-04-11T14:24:20.102687Z"
    },
    "papermill": {
     "duration": 0.028792,
     "end_time": "2024-04-11T14:24:20.105503",
     "exception": false,
     "start_time": "2024-04-11T14:24:20.076711",
     "status": "completed"
    },
    "tags": []
   },
   "outputs": [
    {
     "data": {
      "text/plain": [
       "((1460, 31), (1168, 31), (292, 31), (1459, 31))"
      ]
     },
     "execution_count": 24,
     "metadata": {},
     "output_type": "execute_result"
    }
   ],
   "source": [
    "final_X.shape, final_X_train.shape, final_X_valid.shape, final_X_test.shape"
   ]
  },
  {
   "cell_type": "code",
   "execution_count": 25,
   "id": "43924ea0",
   "metadata": {
    "execution": {
     "iopub.execute_input": "2024-04-11T14:24:20.148115Z",
     "iopub.status.busy": "2024-04-11T14:24:20.147588Z",
     "iopub.status.idle": "2024-04-11T14:24:20.153232Z",
     "shell.execute_reply": "2024-04-11T14:24:20.152375Z"
    },
    "papermill": {
     "duration": 0.029011,
     "end_time": "2024-04-11T14:24:20.155204",
     "exception": false,
     "start_time": "2024-04-11T14:24:20.126193",
     "status": "completed"
    },
    "tags": []
   },
   "outputs": [
    {
     "data": {
      "text/plain": [
       "Index(['MSSubClass', 'LotFrontage', 'LotArea', 'OverallQual', 'OverallCond',\n",
       "       'YearBuilt', 'YearRemodAdd', 'MasVnrArea', 'BsmtFinSF1', 'BsmtUnfSF',\n",
       "       'TotalBsmtSF', '1stFlrSF', '2ndFlrSF', 'GrLivArea', 'BsmtFullBath',\n",
       "       'FullBath', 'HalfBath', 'BedroomAbvGr', 'KitchenAbvGr', 'TotRmsAbvGrd',\n",
       "       'Fireplaces', 'GarageYrBlt', 'GarageCars', 'GarageArea', 'WoodDeckSF',\n",
       "       'OpenPorchSF', 'EnclosedPorch', '3SsnPorch', 'ScreenPorch', 'MoSold',\n",
       "       'YrSold'],\n",
       "      dtype='object')"
      ]
     },
     "execution_count": 25,
     "metadata": {},
     "output_type": "execute_result"
    }
   ],
   "source": [
    "final_X_train.columns"
   ]
  },
  {
   "cell_type": "code",
   "execution_count": 26,
   "id": "9ec42d67",
   "metadata": {
    "execution": {
     "iopub.execute_input": "2024-04-11T14:24:20.198263Z",
     "iopub.status.busy": "2024-04-11T14:24:20.197987Z",
     "iopub.status.idle": "2024-04-11T14:24:20.235401Z",
     "shell.execute_reply": "2024-04-11T14:24:20.234513Z"
    },
    "papermill": {
     "duration": 0.061073,
     "end_time": "2024-04-11T14:24:20.237294",
     "exception": false,
     "start_time": "2024-04-11T14:24:20.176221",
     "status": "completed"
    },
    "tags": []
   },
   "outputs": [
    {
     "name": "stdout",
     "output_type": "stream",
     "text": [
      "[('YearBuilt', 'GarageYrBlt'), ('GrLivArea', 'TotRmsAbvGrd'), ('GarageCars', 'GarageArea')]\n",
      "['GarageYrBlt', 'TotRmsAbvGrd', 'GarageArea']\n"
     ]
    }
   ],
   "source": [
    "# Strategy: Identify highly correlated columns in X and drop one column of each pair\n",
    "correlation_matrix = X_train.corr().abs()\n",
    "upper_triangle = correlation_matrix.where(np.triu(np.ones(correlation_matrix.shape), k=1).astype(bool))\n",
    "\n",
    "highly_correlated_pairs = []\n",
    "for i in range(len(upper_triangle.columns)):\n",
    "    for j in range(i+1, len(upper_triangle.columns)):\n",
    "        if upper_triangle.iloc[i, j] > 0.80:\n",
    "            highly_correlated_pairs.append((upper_triangle.columns[i], upper_triangle.columns[j]))\n",
    "\n",
    "print(highly_correlated_pairs)\n",
    "\n",
    "# Extracting the second element of each pair\n",
    "features_to_drop = [pair[1] for pair in highly_correlated_pairs]\n",
    "print(features_to_drop)\n",
    "\n",
    "# Dropping the features from X, X_train, X_valid, and X_test\n",
    "final_X.drop(columns=features_to_drop, inplace=True)\n",
    "final_X_train.drop(columns=features_to_drop, inplace=True)\n",
    "final_X_valid.drop(columns=features_to_drop, inplace=True)\n",
    "final_X_test.drop(columns=features_to_drop, inplace=True)"
   ]
  },
  {
   "cell_type": "code",
   "execution_count": 27,
   "id": "0a3f838c",
   "metadata": {
    "execution": {
     "iopub.execute_input": "2024-04-11T14:24:20.280016Z",
     "iopub.status.busy": "2024-04-11T14:24:20.279737Z",
     "iopub.status.idle": "2024-04-11T14:24:20.285284Z",
     "shell.execute_reply": "2024-04-11T14:24:20.284403Z"
    },
    "papermill": {
     "duration": 0.02912,
     "end_time": "2024-04-11T14:24:20.287191",
     "exception": false,
     "start_time": "2024-04-11T14:24:20.258071",
     "status": "completed"
    },
    "tags": []
   },
   "outputs": [
    {
     "data": {
      "text/plain": [
       "((1460, 36), (1168, 36), (292, 36), (1459, 36))"
      ]
     },
     "execution_count": 27,
     "metadata": {},
     "output_type": "execute_result"
    }
   ],
   "source": [
    "X.shape, X_train.shape, X_valid.shape, X_test.shape"
   ]
  },
  {
   "cell_type": "code",
   "execution_count": 28,
   "id": "9081f582",
   "metadata": {
    "execution": {
     "iopub.execute_input": "2024-04-11T14:24:20.331781Z",
     "iopub.status.busy": "2024-04-11T14:24:20.331505Z",
     "iopub.status.idle": "2024-04-11T14:24:20.337163Z",
     "shell.execute_reply": "2024-04-11T14:24:20.336294Z"
    },
    "papermill": {
     "duration": 0.030086,
     "end_time": "2024-04-11T14:24:20.339037",
     "exception": false,
     "start_time": "2024-04-11T14:24:20.308951",
     "status": "completed"
    },
    "tags": []
   },
   "outputs": [
    {
     "data": {
      "text/plain": [
       "((1460, 28), (1168, 28), (292, 28), (1459, 28))"
      ]
     },
     "execution_count": 28,
     "metadata": {},
     "output_type": "execute_result"
    }
   ],
   "source": [
    "final_X.shape, final_X_train.shape, final_X_valid.shape, final_X_test.shape"
   ]
  },
  {
   "cell_type": "code",
   "execution_count": 29,
   "id": "b9d0d549",
   "metadata": {
    "execution": {
     "iopub.execute_input": "2024-04-11T14:24:20.382823Z",
     "iopub.status.busy": "2024-04-11T14:24:20.382554Z",
     "iopub.status.idle": "2024-04-11T14:24:20.388089Z",
     "shell.execute_reply": "2024-04-11T14:24:20.387274Z"
    },
    "papermill": {
     "duration": 0.029801,
     "end_time": "2024-04-11T14:24:20.390000",
     "exception": false,
     "start_time": "2024-04-11T14:24:20.360199",
     "status": "completed"
    },
    "tags": []
   },
   "outputs": [
    {
     "data": {
      "text/plain": [
       "Index(['MSSubClass', 'LotFrontage', 'LotArea', 'OverallQual', 'OverallCond',\n",
       "       'YearBuilt', 'YearRemodAdd', 'MasVnrArea', 'BsmtFinSF1', 'BsmtUnfSF',\n",
       "       'TotalBsmtSF', '1stFlrSF', '2ndFlrSF', 'GrLivArea', 'BsmtFullBath',\n",
       "       'FullBath', 'HalfBath', 'BedroomAbvGr', 'KitchenAbvGr', 'Fireplaces',\n",
       "       'GarageCars', 'WoodDeckSF', 'OpenPorchSF', 'EnclosedPorch', '3SsnPorch',\n",
       "       'ScreenPorch', 'MoSold', 'YrSold'],\n",
       "      dtype='object')"
      ]
     },
     "execution_count": 29,
     "metadata": {},
     "output_type": "execute_result"
    }
   ],
   "source": [
    "final_X_train.columns"
   ]
  },
  {
   "cell_type": "code",
   "execution_count": 30,
   "id": "45a58c05",
   "metadata": {
    "execution": {
     "iopub.execute_input": "2024-04-11T14:24:20.434141Z",
     "iopub.status.busy": "2024-04-11T14:24:20.433608Z",
     "iopub.status.idle": "2024-04-11T14:24:20.440254Z",
     "shell.execute_reply": "2024-04-11T14:24:20.439363Z"
    },
    "papermill": {
     "duration": 0.030734,
     "end_time": "2024-04-11T14:24:20.442362",
     "exception": false,
     "start_time": "2024-04-11T14:24:20.411628",
     "status": "completed"
    },
    "tags": []
   },
   "outputs": [
    {
     "name": "stdout",
     "output_type": "stream",
     "text": [
      "The mean difference between GarageYrBlt and YearBuilt is 5.7 years.\n"
     ]
    }
   ],
   "source": [
    "# Strategy to fill missing values in GarageYrBlt:\n",
    "# Fill in with the sum of YearBuilt and the average of \n",
    "# the difference between GarageYrBlt and YearBuilt\n",
    "\n",
    "# Calculate the mean difference between GarageYrBlt and YearBuilt\n",
    "mean_diff = (X_train['GarageYrBlt'] - X_train['YearBuilt']).mean()\n",
    "print(f\"The mean difference between GarageYrBlt and YearBuilt is {mean_diff:.1f} years.\")\n",
    "\n",
    "# Function to fill missing values in GarageYrBlt column\n",
    "def fill_garage_year(row):\n",
    "    if pd.isnull(row['GarageYrBlt']):\n",
    "        return row['YearBuilt'] + mean_diff\n",
    "    else:\n",
    "        return row['GarageYrBlt']"
   ]
  },
  {
   "cell_type": "code",
   "execution_count": 31,
   "id": "a00d0868",
   "metadata": {
    "execution": {
     "iopub.execute_input": "2024-04-11T14:24:20.487370Z",
     "iopub.status.busy": "2024-04-11T14:24:20.487092Z",
     "iopub.status.idle": "2024-04-11T14:24:20.493709Z",
     "shell.execute_reply": "2024-04-11T14:24:20.492885Z"
    },
    "papermill": {
     "duration": 0.030786,
     "end_time": "2024-04-11T14:24:20.495715",
     "exception": false,
     "start_time": "2024-04-11T14:24:20.464929",
     "status": "completed"
    },
    "tags": []
   },
   "outputs": [
    {
     "name": "stdout",
     "output_type": "stream",
     "text": [
      "The mean division between LotFrontage and LotArea is 0.007866.\n"
     ]
    }
   ],
   "source": [
    "# Strategy to fill missing values in LotFrontage:\n",
    "# Fill in with the product of LotArea and the average of \n",
    "# the division between LotFrontage and LotArea\n",
    "\n",
    "# Calculate the mean of the division between LotFrontage and LotArea\n",
    "mean_division = (X_train['LotFrontage'] / X_train['LotArea']).mean()\n",
    "print(f\"The mean division between LotFrontage and LotArea is {mean_division:.6f}.\")\n",
    "\n",
    "# Function to fill missing values in GarageYrBlt column\n",
    "def fill_lot_frontage(row):\n",
    "    if pd.isnull(row['LotFrontage']):\n",
    "        return row['LotArea'] * mean_division\n",
    "    else:\n",
    "        return row['LotFrontage']"
   ]
  },
  {
   "cell_type": "code",
   "execution_count": 32,
   "id": "7ba57991",
   "metadata": {
    "execution": {
     "iopub.execute_input": "2024-04-11T14:24:20.540632Z",
     "iopub.status.busy": "2024-04-11T14:24:20.540187Z",
     "iopub.status.idle": "2024-04-11T14:24:20.546262Z",
     "shell.execute_reply": "2024-04-11T14:24:20.545431Z"
    },
    "papermill": {
     "duration": 0.030388,
     "end_time": "2024-04-11T14:24:20.548061",
     "exception": false,
     "start_time": "2024-04-11T14:24:20.517673",
     "status": "completed"
    },
    "tags": []
   },
   "outputs": [],
   "source": [
    "# Strategy: \n",
    "# Combining MoSold and YrSold into a single numerical column YearSold and then \n",
    "# transforming the year columns can be a good approach. \n",
    "# This way, we're effectively reducing the dimensionality of the dataset while \n",
    "# still capturing the temporal information.\n",
    "\n",
    "def transform_year_columns(X_df):\n",
    "    # Combine MoSold and YrSold into a single numerical column: YearSold\n",
    "    X_df['YearSold'] = X_df['YrSold'] + X_df['MoSold'] / 12\n",
    "    X_df.drop(['MoSold', 'YrSold'], axis=1, inplace=True)\n",
    "\n",
    "    # Transform YearBuilt to PropertyAge\n",
    "    X_df['PropertyAge'] = X_df['YearSold'] - X_df['YearBuilt']\n",
    "    X_df.drop('YearBuilt', axis=1, inplace=True)\n",
    "\n",
    "    # Transform YearRemodAdd to RemodAge\n",
    "    X_df['RemodAge'] = X_df['YearSold'] - X_df['YearRemodAdd']\n",
    "    X_df.drop('YearRemodAdd', axis=1, inplace=True)\n",
    "\n",
    "#     # Transform GarageYrBlt to GarageAge\n",
    "#     X_df['GarageAge'] = X_df['YearSold'] - X_df['GarageYrBlt']\n",
    "#     X_df.drop('GarageYrBlt', axis=1, inplace=True)\n",
    "\n",
    "    return X_df\n"
   ]
  },
  {
   "cell_type": "code",
   "execution_count": 33,
   "id": "c50a9b5a",
   "metadata": {
    "execution": {
     "iopub.execute_input": "2024-04-11T14:24:20.592537Z",
     "iopub.status.busy": "2024-04-11T14:24:20.592270Z",
     "iopub.status.idle": "2024-04-11T14:24:20.711667Z",
     "shell.execute_reply": "2024-04-11T14:24:20.710868Z"
    },
    "papermill": {
     "duration": 0.144278,
     "end_time": "2024-04-11T14:24:20.713535",
     "exception": false,
     "start_time": "2024-04-11T14:24:20.569257",
     "status": "completed"
    },
    "tags": []
   },
   "outputs": [
    {
     "name": "stdout",
     "output_type": "stream",
     "text": [
      "missing values before preprocessing:\n",
      "LotFrontage    212\n",
      "MasVnrArea       6\n",
      "dtype: int64\n",
      "\n",
      "missing values after filling LotFrontage:\n",
      "MasVnrArea    6\n",
      "dtype: int64\n",
      "\n",
      "missing values after Imputation:\n",
      "Series([], dtype: int64)\n",
      "\n"
     ]
    },
    {
     "data": {
      "application/javascript": [
       "parent.postMessage({\"jupyterEvent\": \"custom.exercise_interaction\", \"data\": {\"outcomeType\": 1, \"valueTowardsCompletion\": 1.0, \"interactionType\": 1, \"questionType\": 2, \"questionId\": \"4.1_PredsCodeA\", \"learnToolsVersion\": \"0.3.4\", \"failureMessage\": \"\", \"exceptionClass\": \"\", \"trace\": \"\"}}, \"*\")"
      ],
      "text/plain": [
       "<IPython.core.display.Javascript object>"
      ]
     },
     "metadata": {},
     "output_type": "display_data"
    },
    {
     "data": {
      "text/markdown": [
       "<span style=\"color:#33cc33\">Correct</span>"
      ],
      "text/plain": [
       "Correct"
      ]
     },
     "metadata": {},
     "output_type": "display_data"
    }
   ],
   "source": [
    "# Preprocessed training and validation features\n",
    "missing_val_count_by_column = (final_X_train.isnull().sum())\n",
    "print(\"missing values before preprocessing:\", \"\\n\", missing_val_count_by_column[missing_val_count_by_column > 0], sep=\"\", end=\"\\n\\n\")\n",
    "\n",
    "# # Fill in missing values in GarageYrBlt\n",
    "# final_X_train['GarageYrBlt'] = final_X_train.apply(fill_garage_year, axis=1)\n",
    "# final_X_valid['GarageYrBlt'] = final_X_valid.apply(fill_garage_year, axis=1)\n",
    "# missing_val_count_by_column = (final_X_train.isnull().sum())\n",
    "# print(\"missing values after filling GarageYrBlt:\", \"\\n\", missing_val_count_by_column[missing_val_count_by_column > 0], sep=\"\", end=\"\\n\\n\")\n",
    "\n",
    "# Fill in missing values in LotFrontage\n",
    "final_X['LotFrontage'] = final_X.apply(fill_lot_frontage, axis=1)\n",
    "final_X_train['LotFrontage'] = final_X_train.apply(fill_lot_frontage, axis=1)\n",
    "final_X_valid['LotFrontage'] = final_X_valid.apply(fill_lot_frontage, axis=1)\n",
    "final_X_test['LotFrontage'] = final_X_test.apply(fill_lot_frontage, axis=1)\n",
    "missing_val_count_by_column = (final_X_train.isnull().sum())\n",
    "print(\"missing values after filling LotFrontage:\", \"\\n\", missing_val_count_by_column[missing_val_count_by_column > 0], sep=\"\", end=\"\\n\\n\")\n",
    "\n",
    "# Save column names before Imputation\n",
    "final_X_train_columns = final_X_train.columns\n",
    "final_X_valid_columns = final_X_valid.columns\n",
    "final_X_test_columns = final_X_test.columns\n",
    "final_X_columns = final_X.columns\n",
    "\n",
    "# Apply Imputation\n",
    "final_imputer = SimpleImputer()\n",
    "final_X_train = pd.DataFrame(final_imputer.fit_transform(final_X_train))\n",
    "final_X_valid = pd.DataFrame(final_imputer.transform(final_X_valid))\n",
    "final_X_test = pd.DataFrame(final_imputer.transform(final_X_test))\n",
    "final_X = pd.DataFrame(final_imputer.transform(final_X))\n",
    "\n",
    "# Fill in the lines below: imputation removed column names; put them back\n",
    "final_X_train.columns = final_X_train_columns\n",
    "final_X_valid.columns = final_X_valid_columns\n",
    "final_X_test.columns = final_X_test_columns\n",
    "final_X.columns = final_X_columns\n",
    "\n",
    "missing_val_count_by_column = (final_X_train.isnull().sum())\n",
    "print(\"missing values after Imputation:\", \"\\n\", missing_val_count_by_column[missing_val_count_by_column > 0], sep=\"\", end=\"\\n\\n\")\n",
    "\n",
    "# Transforming the year columns\n",
    "final_X_train = transform_year_columns(final_X_train)\n",
    "final_X_valid = transform_year_columns(final_X_valid)\n",
    "final_X_test = transform_year_columns(final_X_test)\n",
    "final_X = transform_year_columns(final_X)\n",
    "\n",
    "# Check your answers\n",
    "step_4.a.check()"
   ]
  },
  {
   "cell_type": "code",
   "execution_count": 34,
   "id": "a7babdd9",
   "metadata": {
    "execution": {
     "iopub.execute_input": "2024-04-11T14:24:20.758489Z",
     "iopub.status.busy": "2024-04-11T14:24:20.758241Z",
     "iopub.status.idle": "2024-04-11T14:24:20.763749Z",
     "shell.execute_reply": "2024-04-11T14:24:20.762923Z"
    },
    "papermill": {
     "duration": 0.030007,
     "end_time": "2024-04-11T14:24:20.765650",
     "exception": false,
     "start_time": "2024-04-11T14:24:20.735643",
     "status": "completed"
    },
    "tags": []
   },
   "outputs": [
    {
     "data": {
      "text/plain": [
       "Index(['MSSubClass', 'LotFrontage', 'LotArea', 'OverallQual', 'OverallCond',\n",
       "       'MasVnrArea', 'BsmtFinSF1', 'BsmtUnfSF', 'TotalBsmtSF', '1stFlrSF',\n",
       "       '2ndFlrSF', 'GrLivArea', 'BsmtFullBath', 'FullBath', 'HalfBath',\n",
       "       'BedroomAbvGr', 'KitchenAbvGr', 'Fireplaces', 'GarageCars',\n",
       "       'WoodDeckSF', 'OpenPorchSF', 'EnclosedPorch', '3SsnPorch',\n",
       "       'ScreenPorch', 'YearSold', 'PropertyAge', 'RemodAge'],\n",
       "      dtype='object')"
      ]
     },
     "execution_count": 34,
     "metadata": {},
     "output_type": "execute_result"
    }
   ],
   "source": [
    "final_X_train.columns"
   ]
  },
  {
   "cell_type": "code",
   "execution_count": 35,
   "id": "2ab88382",
   "metadata": {
    "execution": {
     "iopub.execute_input": "2024-04-11T14:24:20.810575Z",
     "iopub.status.busy": "2024-04-11T14:24:20.810309Z",
     "iopub.status.idle": "2024-04-11T14:24:20.815701Z",
     "shell.execute_reply": "2024-04-11T14:24:20.814883Z"
    },
    "papermill": {
     "duration": 0.030107,
     "end_time": "2024-04-11T14:24:20.817682",
     "exception": false,
     "start_time": "2024-04-11T14:24:20.787575",
     "status": "completed"
    },
    "tags": []
   },
   "outputs": [
    {
     "data": {
      "text/plain": [
       "((1168, 27), (292, 27))"
      ]
     },
     "execution_count": 35,
     "metadata": {},
     "output_type": "execute_result"
    }
   ],
   "source": [
    "final_X_train.shape, final_X_valid.shape"
   ]
  },
  {
   "cell_type": "code",
   "execution_count": 36,
   "id": "b6c539b3",
   "metadata": {
    "execution": {
     "iopub.execute_input": "2024-04-11T14:24:20.862964Z",
     "iopub.status.busy": "2024-04-11T14:24:20.862700Z",
     "iopub.status.idle": "2024-04-11T14:24:20.867577Z",
     "shell.execute_reply": "2024-04-11T14:24:20.866650Z"
    },
    "papermill": {
     "duration": 0.029738,
     "end_time": "2024-04-11T14:24:20.869431",
     "exception": false,
     "start_time": "2024-04-11T14:24:20.839693",
     "status": "completed"
    },
    "tags": []
   },
   "outputs": [
    {
     "name": "stdout",
     "output_type": "stream",
     "text": [
      "True\n",
      "True\n"
     ]
    }
   ],
   "source": [
    "# check if final_X_train and y_train have the same number of rows.\n",
    "print(final_X_train.shape[0] == y_train.shape[0])\n",
    "\n",
    "# check if final_X_valid and y_valid have the same number of rows.\n",
    "print(final_X_valid.shape[0] == y_valid.shape[0])"
   ]
  },
  {
   "cell_type": "code",
   "execution_count": 37,
   "id": "81414a41",
   "metadata": {
    "execution": {
     "iopub.execute_input": "2024-04-11T14:24:20.915496Z",
     "iopub.status.busy": "2024-04-11T14:24:20.915231Z",
     "iopub.status.idle": "2024-04-11T14:24:20.926581Z",
     "shell.execute_reply": "2024-04-11T14:24:20.925670Z"
    },
    "papermill": {
     "duration": 0.036709,
     "end_time": "2024-04-11T14:24:20.928492",
     "exception": false,
     "start_time": "2024-04-11T14:24:20.891783",
     "status": "completed"
    },
    "tags": []
   },
   "outputs": [
    {
     "data": {
      "application/javascript": [
       "parent.postMessage({\"jupyterEvent\": \"custom.exercise_interaction\", \"data\": {\"interactionType\": 2, \"questionType\": 2, \"questionId\": \"4.1_PredsCodeA\", \"learnToolsVersion\": \"0.3.4\", \"valueTowardsCompletion\": 0.0, \"failureMessage\": \"\", \"exceptionClass\": \"\", \"trace\": \"\", \"outcomeType\": 4}}, \"*\")"
      ],
      "text/plain": [
       "<IPython.core.display.Javascript object>"
      ]
     },
     "metadata": {},
     "output_type": "display_data"
    },
    {
     "data": {
      "text/markdown": [
       "<span style=\"color:#3366cc\">Hint:</span> Use any approach of your choosing to deal with missing values in the data.  For inspiration, check out the code from the tutorial!"
      ],
      "text/plain": [
       "Hint: Use any approach of your choosing to deal with missing values in the data.  For inspiration, check out the code from the tutorial!"
      ]
     },
     "metadata": {},
     "output_type": "display_data"
    },
    {
     "data": {
      "application/javascript": [
       "parent.postMessage({\"jupyterEvent\": \"custom.exercise_interaction\", \"data\": {\"interactionType\": 3, \"questionType\": 2, \"questionId\": \"4.1_PredsCodeA\", \"learnToolsVersion\": \"0.3.4\", \"valueTowardsCompletion\": 0.0, \"failureMessage\": \"\", \"exceptionClass\": \"\", \"trace\": \"\", \"outcomeType\": 4}}, \"*\")"
      ],
      "text/plain": [
       "<IPython.core.display.Javascript object>"
      ]
     },
     "metadata": {},
     "output_type": "display_data"
    },
    {
     "data": {
      "text/markdown": [
       "<span style=\"color:#33cc99\">Solution:</span> \n",
       "```python\n",
       "# Imputation\n",
       "final_imputer = SimpleImputer(strategy='median')\n",
       "final_X_train = pd.DataFrame(final_imputer.fit_transform(X_train))\n",
       "final_X_valid = pd.DataFrame(final_imputer.transform(X_valid))\n",
       "\n",
       "# Imputation removed column names; put them back\n",
       "final_X_train.columns = X_train.columns\n",
       "final_X_valid.columns = X_valid.columns\n",
       "\n",
       "```"
      ],
      "text/plain": [
       "Solution: \n",
       "```python\n",
       "# Imputation\n",
       "final_imputer = SimpleImputer(strategy='median')\n",
       "final_X_train = pd.DataFrame(final_imputer.fit_transform(X_train))\n",
       "final_X_valid = pd.DataFrame(final_imputer.transform(X_valid))\n",
       "\n",
       "# Imputation removed column names; put them back\n",
       "final_X_train.columns = X_train.columns\n",
       "final_X_valid.columns = X_valid.columns\n",
       "\n",
       "```"
      ]
     },
     "metadata": {},
     "output_type": "display_data"
    }
   ],
   "source": [
    "# Lines below will give you a hint or solution code\n",
    "step_4.a.hint()\n",
    "step_4.a.solution()"
   ]
  },
  {
   "cell_type": "markdown",
   "id": "be9f6760",
   "metadata": {
    "papermill": {
     "duration": 0.022796,
     "end_time": "2024-04-11T14:24:20.974047",
     "exception": false,
     "start_time": "2024-04-11T14:24:20.951251",
     "status": "completed"
    },
    "tags": []
   },
   "source": [
    "Run the next code cell to train and evaluate a random forest model.  (*Note that we don't use the `score_dataset()` function above, because we will soon use the trained model to generate test predictions!*)"
   ]
  },
  {
   "cell_type": "code",
   "execution_count": 38,
   "id": "52af030a",
   "metadata": {
    "execution": {
     "iopub.execute_input": "2024-04-11T14:24:21.021814Z",
     "iopub.status.busy": "2024-04-11T14:24:21.020925Z",
     "iopub.status.idle": "2024-04-11T14:25:23.051562Z",
     "shell.execute_reply": "2024-04-11T14:25:23.050450Z"
    },
    "papermill": {
     "duration": 62.056809,
     "end_time": "2024-04-11T14:25:23.053619",
     "exception": false,
     "start_time": "2024-04-11T14:24:20.996810",
     "status": "completed"
    },
    "tags": []
   },
   "outputs": [
    {
     "name": "stdout",
     "output_type": "stream",
     "text": [
      "Best Parameters: {'max_depth': None, 'n_estimators': 100}\n"
     ]
    },
    {
     "data": {
      "text/html": [
       "<style>#sk-container-id-1 {color: black;background-color: white;}#sk-container-id-1 pre{padding: 0;}#sk-container-id-1 div.sk-toggleable {background-color: white;}#sk-container-id-1 label.sk-toggleable__label {cursor: pointer;display: block;width: 100%;margin-bottom: 0;padding: 0.3em;box-sizing: border-box;text-align: center;}#sk-container-id-1 label.sk-toggleable__label-arrow:before {content: \"▸\";float: left;margin-right: 0.25em;color: #696969;}#sk-container-id-1 label.sk-toggleable__label-arrow:hover:before {color: black;}#sk-container-id-1 div.sk-estimator:hover label.sk-toggleable__label-arrow:before {color: black;}#sk-container-id-1 div.sk-toggleable__content {max-height: 0;max-width: 0;overflow: hidden;text-align: left;background-color: #f0f8ff;}#sk-container-id-1 div.sk-toggleable__content pre {margin: 0.2em;color: black;border-radius: 0.25em;background-color: #f0f8ff;}#sk-container-id-1 input.sk-toggleable__control:checked~div.sk-toggleable__content {max-height: 200px;max-width: 100%;overflow: auto;}#sk-container-id-1 input.sk-toggleable__control:checked~label.sk-toggleable__label-arrow:before {content: \"▾\";}#sk-container-id-1 div.sk-estimator input.sk-toggleable__control:checked~label.sk-toggleable__label {background-color: #d4ebff;}#sk-container-id-1 div.sk-label input.sk-toggleable__control:checked~label.sk-toggleable__label {background-color: #d4ebff;}#sk-container-id-1 input.sk-hidden--visually {border: 0;clip: rect(1px 1px 1px 1px);clip: rect(1px, 1px, 1px, 1px);height: 1px;margin: -1px;overflow: hidden;padding: 0;position: absolute;width: 1px;}#sk-container-id-1 div.sk-estimator {font-family: monospace;background-color: #f0f8ff;border: 1px dotted black;border-radius: 0.25em;box-sizing: border-box;margin-bottom: 0.5em;}#sk-container-id-1 div.sk-estimator:hover {background-color: #d4ebff;}#sk-container-id-1 div.sk-parallel-item::after {content: \"\";width: 100%;border-bottom: 1px solid gray;flex-grow: 1;}#sk-container-id-1 div.sk-label:hover label.sk-toggleable__label {background-color: #d4ebff;}#sk-container-id-1 div.sk-serial::before {content: \"\";position: absolute;border-left: 1px solid gray;box-sizing: border-box;top: 0;bottom: 0;left: 50%;z-index: 0;}#sk-container-id-1 div.sk-serial {display: flex;flex-direction: column;align-items: center;background-color: white;padding-right: 0.2em;padding-left: 0.2em;position: relative;}#sk-container-id-1 div.sk-item {position: relative;z-index: 1;}#sk-container-id-1 div.sk-parallel {display: flex;align-items: stretch;justify-content: center;background-color: white;position: relative;}#sk-container-id-1 div.sk-item::before, #sk-container-id-1 div.sk-parallel-item::before {content: \"\";position: absolute;border-left: 1px solid gray;box-sizing: border-box;top: 0;bottom: 0;left: 50%;z-index: -1;}#sk-container-id-1 div.sk-parallel-item {display: flex;flex-direction: column;z-index: 1;position: relative;background-color: white;}#sk-container-id-1 div.sk-parallel-item:first-child::after {align-self: flex-end;width: 50%;}#sk-container-id-1 div.sk-parallel-item:last-child::after {align-self: flex-start;width: 50%;}#sk-container-id-1 div.sk-parallel-item:only-child::after {width: 0;}#sk-container-id-1 div.sk-dashed-wrapped {border: 1px dashed gray;margin: 0 0.4em 0.5em 0.4em;box-sizing: border-box;padding-bottom: 0.4em;background-color: white;}#sk-container-id-1 div.sk-label label {font-family: monospace;font-weight: bold;display: inline-block;line-height: 1.2em;}#sk-container-id-1 div.sk-label-container {text-align: center;}#sk-container-id-1 div.sk-container {/* jupyter's `normalize.less` sets `[hidden] { display: none; }` but bootstrap.min.css set `[hidden] { display: none !important; }` so we also need the `!important` here to be able to override the default hidden behavior on the sphinx rendered scikit-learn.org. See: https://github.com/scikit-learn/scikit-learn/issues/21755 */display: inline-block !important;position: relative;}#sk-container-id-1 div.sk-text-repr-fallback {display: none;}</style><div id=\"sk-container-id-1\" class=\"sk-top-container\"><div class=\"sk-text-repr-fallback\"><pre>RandomForestRegressor(random_state=0)</pre><b>In a Jupyter environment, please rerun this cell to show the HTML representation or trust the notebook. <br />On GitHub, the HTML representation is unable to render, please try loading this page with nbviewer.org.</b></div><div class=\"sk-container\" hidden><div class=\"sk-item\"><div class=\"sk-estimator sk-toggleable\"><input class=\"sk-toggleable__control sk-hidden--visually\" id=\"sk-estimator-id-1\" type=\"checkbox\" checked><label for=\"sk-estimator-id-1\" class=\"sk-toggleable__label sk-toggleable__label-arrow\">RandomForestRegressor</label><div class=\"sk-toggleable__content\"><pre>RandomForestRegressor(random_state=0)</pre></div></div></div></div></div>"
      ],
      "text/plain": [
       "RandomForestRegressor(random_state=0)"
      ]
     },
     "execution_count": 38,
     "metadata": {},
     "output_type": "execute_result"
    }
   ],
   "source": [
    "from sklearn.model_selection import GridSearchCV\n",
    "from sklearn.ensemble import RandomForestRegressor\n",
    "\n",
    "# Define the parameter grid\n",
    "param_grid = {\n",
    "    'n_estimators': [10, 50, 100, 150, 300],  # you can adjust the range\n",
    "    'max_depth': [None, 10, 20, 30, 40, 50]  # you can adjust the range\n",
    "}\n",
    "\n",
    "# Instantiate the RandomForestRegressor\n",
    "rf = RandomForestRegressor(random_state=0)\n",
    "\n",
    "# Instantiate GridSearchCV\n",
    "grid_search = GridSearchCV(estimator=rf, param_grid=param_grid, cv=5, scoring='neg_mean_squared_error', n_jobs=-1)\n",
    "\n",
    "# Fit the grid search to the data\n",
    "grid_search.fit(final_X_train, y_train)\n",
    "\n",
    "# Print the best parameters found\n",
    "print(\"Best Parameters:\", grid_search.best_params_)\n",
    "\n",
    "# Get the best estimator\n",
    "best_rf = grid_search.best_estimator_\n",
    "\n",
    "# Train the model with the best parameters\n",
    "best_rf.fit(final_X_train, y_train)\n"
   ]
  },
  {
   "cell_type": "code",
   "execution_count": 39,
   "id": "7f681043",
   "metadata": {
    "execution": {
     "iopub.execute_input": "2024-04-11T14:25:23.102467Z",
     "iopub.status.busy": "2024-04-11T14:25:23.101920Z",
     "iopub.status.idle": "2024-04-11T14:25:23.118117Z",
     "shell.execute_reply": "2024-04-11T14:25:23.117289Z"
    },
    "papermill": {
     "duration": 0.042309,
     "end_time": "2024-04-11T14:25:23.119907",
     "exception": false,
     "start_time": "2024-04-11T14:25:23.077598",
     "status": "completed"
    },
    "tags": []
   },
   "outputs": [
    {
     "name": "stdout",
     "output_type": "stream",
     "text": [
      "MAE (Your approach):\n",
      "17453.36412671233\n"
     ]
    }
   ],
   "source": [
    "# Get validation predictions and MAE\n",
    "preds_valid = best_rf.predict(final_X_valid)\n",
    "print(\"MAE (Your approach):\")\n",
    "print(mean_absolute_error(y_valid, preds_valid))"
   ]
  },
  {
   "cell_type": "code",
   "execution_count": 40,
   "id": "38bd8823",
   "metadata": {
    "execution": {
     "iopub.execute_input": "2024-04-11T14:25:23.169514Z",
     "iopub.status.busy": "2024-04-11T14:25:23.169230Z",
     "iopub.status.idle": "2024-04-11T14:25:23.174635Z",
     "shell.execute_reply": "2024-04-11T14:25:23.173826Z"
    },
    "papermill": {
     "duration": 0.03154,
     "end_time": "2024-04-11T14:25:23.176582",
     "exception": false,
     "start_time": "2024-04-11T14:25:23.145042",
     "status": "completed"
    },
    "tags": []
   },
   "outputs": [
    {
     "data": {
      "text/plain": [
       "292"
      ]
     },
     "execution_count": 40,
     "metadata": {},
     "output_type": "execute_result"
    }
   ],
   "source": [
    "len(preds_valid)"
   ]
  },
  {
   "cell_type": "code",
   "execution_count": 41,
   "id": "1e3a0f43",
   "metadata": {
    "execution": {
     "iopub.execute_input": "2024-04-11T14:25:23.224300Z",
     "iopub.status.busy": "2024-04-11T14:25:23.224028Z",
     "iopub.status.idle": "2024-04-11T14:25:23.227721Z",
     "shell.execute_reply": "2024-04-11T14:25:23.226981Z"
    },
    "papermill": {
     "duration": 0.029814,
     "end_time": "2024-04-11T14:25:23.229594",
     "exception": false,
     "start_time": "2024-04-11T14:25:23.199780",
     "status": "completed"
    },
    "tags": []
   },
   "outputs": [],
   "source": [
    "# # Define and fit model\n",
    "# model = RandomForestRegressor(n_estimators=35, random_state=0)\n",
    "# model.fit(final_X_train, y_train)\n",
    "\n",
    "# # Get validation predictions and MAE\n",
    "# preds_valid = model.predict(final_X_valid)\n",
    "# print(\"MAE (Your approach):\")\n",
    "# print(mean_absolute_error(y_valid, preds_valid))"
   ]
  },
  {
   "cell_type": "markdown",
   "id": "31d121c3",
   "metadata": {
    "papermill": {
     "duration": 0.023249,
     "end_time": "2024-04-11T14:25:23.276515",
     "exception": false,
     "start_time": "2024-04-11T14:25:23.253266",
     "status": "completed"
    },
    "tags": []
   },
   "source": [
    "### Part B\n",
    "\n",
    "Use the next code cell to preprocess your test data.  Make sure that you use a method that agrees with how you preprocessed the training and validation data, and set the preprocessed test features to `final_X_test`.\n",
    "\n",
    "Then, use the preprocessed test features and the trained model to generate test predictions in `preds_test`.\n",
    "\n",
    "In order for this step to be marked correct, you need only ensure:\n",
    "- the preprocessed test DataFrame has no missing values, and\n",
    "- `final_X_test` has the same number of rows as `X_test`."
   ]
  },
  {
   "cell_type": "code",
   "execution_count": 42,
   "id": "f4f3d729",
   "metadata": {
    "execution": {
     "iopub.execute_input": "2024-04-11T14:25:23.324557Z",
     "iopub.status.busy": "2024-04-11T14:25:23.324279Z",
     "iopub.status.idle": "2024-04-11T14:25:23.360744Z",
     "shell.execute_reply": "2024-04-11T14:25:23.359966Z"
    },
    "papermill": {
     "duration": 0.062708,
     "end_time": "2024-04-11T14:25:23.362623",
     "exception": false,
     "start_time": "2024-04-11T14:25:23.299915",
     "status": "completed"
    },
    "tags": []
   },
   "outputs": [
    {
     "name": "stdout",
     "output_type": "stream",
     "text": [
      "missing values before Preprocessing:\n",
      "Series([], dtype: int64)\n",
      "\n"
     ]
    },
    {
     "data": {
      "application/javascript": [
       "parent.postMessage({\"jupyterEvent\": \"custom.exercise_interaction\", \"data\": {\"outcomeType\": 1, \"valueTowardsCompletion\": 1.0, \"interactionType\": 1, \"questionType\": 2, \"questionId\": \"4.2_PredsCodeB\", \"learnToolsVersion\": \"0.3.4\", \"failureMessage\": \"\", \"exceptionClass\": \"\", \"trace\": \"\"}}, \"*\")"
      ],
      "text/plain": [
       "<IPython.core.display.Javascript object>"
      ]
     },
     "metadata": {},
     "output_type": "display_data"
    },
    {
     "data": {
      "text/markdown": [
       "<span style=\"color:#33cc33\">Correct</span>"
      ],
      "text/plain": [
       "Correct"
      ]
     },
     "metadata": {},
     "output_type": "display_data"
    }
   ],
   "source": [
    "# Fill in the line below: preprocess test data\n",
    "# It was done lines above\n",
    "# Apply the custom function to fill missing values\n",
    "missing_val_count_by_column = (final_X_test.isnull().sum())\n",
    "print(\"missing values before Preprocessing:\", \"\\n\", missing_val_count_by_column[missing_val_count_by_column > 0], sep=\"\", end=\"\\n\\n\")\n",
    "\n",
    "# Fill in the line below: get test predictions\n",
    "preds_test = best_rf.predict(final_X_test)\n",
    "\n",
    "# Check your answers\n",
    "step_4.b.check()"
   ]
  },
  {
   "cell_type": "code",
   "execution_count": 43,
   "id": "679a5301",
   "metadata": {
    "execution": {
     "iopub.execute_input": "2024-04-11T14:25:23.414225Z",
     "iopub.status.busy": "2024-04-11T14:25:23.413923Z",
     "iopub.status.idle": "2024-04-11T14:25:23.419505Z",
     "shell.execute_reply": "2024-04-11T14:25:23.418736Z"
    },
    "papermill": {
     "duration": 0.032091,
     "end_time": "2024-04-11T14:25:23.421310",
     "exception": false,
     "start_time": "2024-04-11T14:25:23.389219",
     "status": "completed"
    },
    "tags": []
   },
   "outputs": [
    {
     "data": {
      "text/plain": [
       "((1459, 27), (1459, 36))"
      ]
     },
     "execution_count": 43,
     "metadata": {},
     "output_type": "execute_result"
    }
   ],
   "source": [
    "final_X_test.shape, X_test.shape"
   ]
  },
  {
   "cell_type": "code",
   "execution_count": 44,
   "id": "dd211553",
   "metadata": {
    "execution": {
     "iopub.execute_input": "2024-04-11T14:25:23.469897Z",
     "iopub.status.busy": "2024-04-11T14:25:23.469633Z",
     "iopub.status.idle": "2024-04-11T14:25:23.475622Z",
     "shell.execute_reply": "2024-04-11T14:25:23.474833Z"
    },
    "papermill": {
     "duration": 0.032311,
     "end_time": "2024-04-11T14:25:23.477364",
     "exception": false,
     "start_time": "2024-04-11T14:25:23.445053",
     "status": "completed"
    },
    "tags": []
   },
   "outputs": [
    {
     "data": {
      "text/plain": [
       "True"
      ]
     },
     "execution_count": 44,
     "metadata": {},
     "output_type": "execute_result"
    }
   ],
   "source": [
    "# Check if final_X_test has the same number of rows as X_test\n",
    "final_X_test.shape[0] == X_test.shape[0]"
   ]
  },
  {
   "cell_type": "code",
   "execution_count": 45,
   "id": "0831ba80",
   "metadata": {
    "execution": {
     "iopub.execute_input": "2024-04-11T14:25:23.526170Z",
     "iopub.status.busy": "2024-04-11T14:25:23.525718Z",
     "iopub.status.idle": "2024-04-11T14:25:23.535711Z",
     "shell.execute_reply": "2024-04-11T14:25:23.534912Z"
    },
    "papermill": {
     "duration": 0.036449,
     "end_time": "2024-04-11T14:25:23.537610",
     "exception": false,
     "start_time": "2024-04-11T14:25:23.501161",
     "status": "completed"
    },
    "tags": []
   },
   "outputs": [
    {
     "data": {
      "application/javascript": [
       "parent.postMessage({\"jupyterEvent\": \"custom.exercise_interaction\", \"data\": {\"interactionType\": 2, \"questionType\": 2, \"questionId\": \"4.2_PredsCodeB\", \"learnToolsVersion\": \"0.3.4\", \"valueTowardsCompletion\": 0.0, \"failureMessage\": \"\", \"exceptionClass\": \"\", \"trace\": \"\", \"outcomeType\": 4}}, \"*\")"
      ],
      "text/plain": [
       "<IPython.core.display.Javascript object>"
      ]
     },
     "metadata": {},
     "output_type": "display_data"
    },
    {
     "data": {
      "text/markdown": [
       "<span style=\"color:#3366cc\">Hint:</span> After preprocessing the test data, you can get the model's predictions by using `model.predict()`."
      ],
      "text/plain": [
       "Hint: After preprocessing the test data, you can get the model's predictions by using `model.predict()`."
      ]
     },
     "metadata": {},
     "output_type": "display_data"
    },
    {
     "data": {
      "application/javascript": [
       "parent.postMessage({\"jupyterEvent\": \"custom.exercise_interaction\", \"data\": {\"interactionType\": 3, \"questionType\": 2, \"questionId\": \"4.2_PredsCodeB\", \"learnToolsVersion\": \"0.3.4\", \"valueTowardsCompletion\": 0.0, \"failureMessage\": \"\", \"exceptionClass\": \"\", \"trace\": \"\", \"outcomeType\": 4}}, \"*\")"
      ],
      "text/plain": [
       "<IPython.core.display.Javascript object>"
      ]
     },
     "metadata": {},
     "output_type": "display_data"
    },
    {
     "data": {
      "text/markdown": [
       "<span style=\"color:#33cc99\">Solution:</span> \n",
       "```python\n",
       "# Preprocess test data\n",
       "final_X_test = pd.DataFrame(final_imputer.transform(X_test))\n",
       "\n",
       "# Get test predictions\n",
       "preds_test = model.predict(final_X_test)\n",
       "\n",
       "```"
      ],
      "text/plain": [
       "Solution: \n",
       "```python\n",
       "# Preprocess test data\n",
       "final_X_test = pd.DataFrame(final_imputer.transform(X_test))\n",
       "\n",
       "# Get test predictions\n",
       "preds_test = model.predict(final_X_test)\n",
       "\n",
       "```"
      ]
     },
     "metadata": {},
     "output_type": "display_data"
    }
   ],
   "source": [
    "# Lines below will give you a hint or solution code\n",
    "step_4.b.hint()\n",
    "step_4.b.solution()"
   ]
  },
  {
   "cell_type": "markdown",
   "id": "747c6357",
   "metadata": {
    "papermill": {
     "duration": 0.02414,
     "end_time": "2024-04-11T14:25:23.586177",
     "exception": false,
     "start_time": "2024-04-11T14:25:23.562037",
     "status": "completed"
    },
    "tags": []
   },
   "source": [
    "Run the next code cell without changes to save your results to a CSV file that can be submitted directly to the competition."
   ]
  },
  {
   "cell_type": "code",
   "execution_count": 46,
   "id": "387c1747",
   "metadata": {
    "execution": {
     "iopub.execute_input": "2024-04-11T14:25:23.636501Z",
     "iopub.status.busy": "2024-04-11T14:25:23.636232Z",
     "iopub.status.idle": "2024-04-11T14:25:23.639987Z",
     "shell.execute_reply": "2024-04-11T14:25:23.639149Z"
    },
    "papermill": {
     "duration": 0.03131,
     "end_time": "2024-04-11T14:25:23.641911",
     "exception": false,
     "start_time": "2024-04-11T14:25:23.610601",
     "status": "completed"
    },
    "tags": []
   },
   "outputs": [],
   "source": [
    "# # Save test predictions to file\n",
    "# output = pd.DataFrame({'Id': X_test.index,\n",
    "#                        'SalePrice': preds_test})\n",
    "# output.to_csv('submission.csv', index=False)\n",
    "# output"
   ]
  },
  {
   "cell_type": "code",
   "execution_count": 47,
   "id": "75d858c8",
   "metadata": {
    "execution": {
     "iopub.execute_input": "2024-04-11T14:25:23.692232Z",
     "iopub.status.busy": "2024-04-11T14:25:23.691916Z",
     "iopub.status.idle": "2024-04-11T14:25:23.698929Z",
     "shell.execute_reply": "2024-04-11T14:25:23.697997Z"
    },
    "papermill": {
     "duration": 0.034284,
     "end_time": "2024-04-11T14:25:23.700865",
     "exception": false,
     "start_time": "2024-04-11T14:25:23.666581",
     "status": "completed"
    },
    "tags": []
   },
   "outputs": [
    {
     "name": "stdout",
     "output_type": "stream",
     "text": [
      "missing values before preprocessing:\n",
      "Series([], dtype: int64)\n",
      "\n"
     ]
    }
   ],
   "source": [
    "# Preprocessed training and validation features\n",
    "# We will use all the data in final_X, which was preprocessed lines above\n",
    "missing_val_count_by_column = (final_X.isnull().sum())\n",
    "print(\"missing values before preprocessing:\", \"\\n\", missing_val_count_by_column[missing_val_count_by_column > 0], sep=\"\", end=\"\\n\\n\")"
   ]
  },
  {
   "cell_type": "code",
   "execution_count": 48,
   "id": "fc15a81d",
   "metadata": {
    "execution": {
     "iopub.execute_input": "2024-04-11T14:25:23.751642Z",
     "iopub.status.busy": "2024-04-11T14:25:23.751395Z",
     "iopub.status.idle": "2024-04-11T14:25:23.756702Z",
     "shell.execute_reply": "2024-04-11T14:25:23.755903Z"
    },
    "papermill": {
     "duration": 0.032414,
     "end_time": "2024-04-11T14:25:23.758499",
     "exception": false,
     "start_time": "2024-04-11T14:25:23.726085",
     "status": "completed"
    },
    "tags": []
   },
   "outputs": [
    {
     "data": {
      "text/plain": [
       "((1460, 27), (1460,))"
      ]
     },
     "execution_count": 48,
     "metadata": {},
     "output_type": "execute_result"
    }
   ],
   "source": [
    "final_X.shape, y.shape"
   ]
  },
  {
   "cell_type": "code",
   "execution_count": 49,
   "id": "4ec0b291",
   "metadata": {
    "execution": {
     "iopub.execute_input": "2024-04-11T14:25:23.809025Z",
     "iopub.status.busy": "2024-04-11T14:25:23.808754Z",
     "iopub.status.idle": "2024-04-11T14:25:25.103865Z",
     "shell.execute_reply": "2024-04-11T14:25:25.103001Z"
    },
    "papermill": {
     "duration": 1.322608,
     "end_time": "2024-04-11T14:25:25.105925",
     "exception": false,
     "start_time": "2024-04-11T14:25:23.783317",
     "status": "completed"
    },
    "tags": []
   },
   "outputs": [
    {
     "data": {
      "text/html": [
       "<style>#sk-container-id-2 {color: black;background-color: white;}#sk-container-id-2 pre{padding: 0;}#sk-container-id-2 div.sk-toggleable {background-color: white;}#sk-container-id-2 label.sk-toggleable__label {cursor: pointer;display: block;width: 100%;margin-bottom: 0;padding: 0.3em;box-sizing: border-box;text-align: center;}#sk-container-id-2 label.sk-toggleable__label-arrow:before {content: \"▸\";float: left;margin-right: 0.25em;color: #696969;}#sk-container-id-2 label.sk-toggleable__label-arrow:hover:before {color: black;}#sk-container-id-2 div.sk-estimator:hover label.sk-toggleable__label-arrow:before {color: black;}#sk-container-id-2 div.sk-toggleable__content {max-height: 0;max-width: 0;overflow: hidden;text-align: left;background-color: #f0f8ff;}#sk-container-id-2 div.sk-toggleable__content pre {margin: 0.2em;color: black;border-radius: 0.25em;background-color: #f0f8ff;}#sk-container-id-2 input.sk-toggleable__control:checked~div.sk-toggleable__content {max-height: 200px;max-width: 100%;overflow: auto;}#sk-container-id-2 input.sk-toggleable__control:checked~label.sk-toggleable__label-arrow:before {content: \"▾\";}#sk-container-id-2 div.sk-estimator input.sk-toggleable__control:checked~label.sk-toggleable__label {background-color: #d4ebff;}#sk-container-id-2 div.sk-label input.sk-toggleable__control:checked~label.sk-toggleable__label {background-color: #d4ebff;}#sk-container-id-2 input.sk-hidden--visually {border: 0;clip: rect(1px 1px 1px 1px);clip: rect(1px, 1px, 1px, 1px);height: 1px;margin: -1px;overflow: hidden;padding: 0;position: absolute;width: 1px;}#sk-container-id-2 div.sk-estimator {font-family: monospace;background-color: #f0f8ff;border: 1px dotted black;border-radius: 0.25em;box-sizing: border-box;margin-bottom: 0.5em;}#sk-container-id-2 div.sk-estimator:hover {background-color: #d4ebff;}#sk-container-id-2 div.sk-parallel-item::after {content: \"\";width: 100%;border-bottom: 1px solid gray;flex-grow: 1;}#sk-container-id-2 div.sk-label:hover label.sk-toggleable__label {background-color: #d4ebff;}#sk-container-id-2 div.sk-serial::before {content: \"\";position: absolute;border-left: 1px solid gray;box-sizing: border-box;top: 0;bottom: 0;left: 50%;z-index: 0;}#sk-container-id-2 div.sk-serial {display: flex;flex-direction: column;align-items: center;background-color: white;padding-right: 0.2em;padding-left: 0.2em;position: relative;}#sk-container-id-2 div.sk-item {position: relative;z-index: 1;}#sk-container-id-2 div.sk-parallel {display: flex;align-items: stretch;justify-content: center;background-color: white;position: relative;}#sk-container-id-2 div.sk-item::before, #sk-container-id-2 div.sk-parallel-item::before {content: \"\";position: absolute;border-left: 1px solid gray;box-sizing: border-box;top: 0;bottom: 0;left: 50%;z-index: -1;}#sk-container-id-2 div.sk-parallel-item {display: flex;flex-direction: column;z-index: 1;position: relative;background-color: white;}#sk-container-id-2 div.sk-parallel-item:first-child::after {align-self: flex-end;width: 50%;}#sk-container-id-2 div.sk-parallel-item:last-child::after {align-self: flex-start;width: 50%;}#sk-container-id-2 div.sk-parallel-item:only-child::after {width: 0;}#sk-container-id-2 div.sk-dashed-wrapped {border: 1px dashed gray;margin: 0 0.4em 0.5em 0.4em;box-sizing: border-box;padding-bottom: 0.4em;background-color: white;}#sk-container-id-2 div.sk-label label {font-family: monospace;font-weight: bold;display: inline-block;line-height: 1.2em;}#sk-container-id-2 div.sk-label-container {text-align: center;}#sk-container-id-2 div.sk-container {/* jupyter's `normalize.less` sets `[hidden] { display: none; }` but bootstrap.min.css set `[hidden] { display: none !important; }` so we also need the `!important` here to be able to override the default hidden behavior on the sphinx rendered scikit-learn.org. See: https://github.com/scikit-learn/scikit-learn/issues/21755 */display: inline-block !important;position: relative;}#sk-container-id-2 div.sk-text-repr-fallback {display: none;}</style><div id=\"sk-container-id-2\" class=\"sk-top-container\"><div class=\"sk-text-repr-fallback\"><pre>RandomForestRegressor(random_state=0)</pre><b>In a Jupyter environment, please rerun this cell to show the HTML representation or trust the notebook. <br />On GitHub, the HTML representation is unable to render, please try loading this page with nbviewer.org.</b></div><div class=\"sk-container\" hidden><div class=\"sk-item\"><div class=\"sk-estimator sk-toggleable\"><input class=\"sk-toggleable__control sk-hidden--visually\" id=\"sk-estimator-id-2\" type=\"checkbox\" checked><label for=\"sk-estimator-id-2\" class=\"sk-toggleable__label sk-toggleable__label-arrow\">RandomForestRegressor</label><div class=\"sk-toggleable__content\"><pre>RandomForestRegressor(random_state=0)</pre></div></div></div></div></div>"
      ],
      "text/plain": [
       "RandomForestRegressor(random_state=0)"
      ]
     },
     "execution_count": 49,
     "metadata": {},
     "output_type": "execute_result"
    }
   ],
   "source": [
    "# Train the model with the best parameters, usin the complete final_X and y\n",
    "best_rf.fit(final_X, y)"
   ]
  },
  {
   "cell_type": "code",
   "execution_count": 50,
   "id": "280376e2",
   "metadata": {
    "execution": {
     "iopub.execute_input": "2024-04-11T14:25:25.158586Z",
     "iopub.status.busy": "2024-04-11T14:25:25.157785Z",
     "iopub.status.idle": "2024-04-11T14:25:25.188624Z",
     "shell.execute_reply": "2024-04-11T14:25:25.187806Z"
    },
    "papermill": {
     "duration": 0.058811,
     "end_time": "2024-04-11T14:25:25.190471",
     "exception": false,
     "start_time": "2024-04-11T14:25:25.131660",
     "status": "completed"
    },
    "tags": []
   },
   "outputs": [
    {
     "data": {
      "text/plain": [
       "1459"
      ]
     },
     "execution_count": 50,
     "metadata": {},
     "output_type": "execute_result"
    }
   ],
   "source": [
    "# # Fill in the line below: get test predictions\n",
    "preds_test = best_rf.predict(final_X_test)\n",
    "len(preds_test)"
   ]
  },
  {
   "cell_type": "code",
   "execution_count": 51,
   "id": "38a83c6f",
   "metadata": {
    "execution": {
     "iopub.execute_input": "2024-04-11T14:25:25.242354Z",
     "iopub.status.busy": "2024-04-11T14:25:25.241851Z",
     "iopub.status.idle": "2024-04-11T14:25:25.262251Z",
     "shell.execute_reply": "2024-04-11T14:25:25.261314Z"
    },
    "papermill": {
     "duration": 0.048359,
     "end_time": "2024-04-11T14:25:25.264113",
     "exception": false,
     "start_time": "2024-04-11T14:25:25.215754",
     "status": "completed"
    },
    "tags": []
   },
   "outputs": [
    {
     "data": {
      "text/html": [
       "<div>\n",
       "<style scoped>\n",
       "    .dataframe tbody tr th:only-of-type {\n",
       "        vertical-align: middle;\n",
       "    }\n",
       "\n",
       "    .dataframe tbody tr th {\n",
       "        vertical-align: top;\n",
       "    }\n",
       "\n",
       "    .dataframe thead th {\n",
       "        text-align: right;\n",
       "    }\n",
       "</style>\n",
       "<table border=\"1\" class=\"dataframe\">\n",
       "  <thead>\n",
       "    <tr style=\"text-align: right;\">\n",
       "      <th></th>\n",
       "      <th>Id</th>\n",
       "      <th>SalePrice</th>\n",
       "    </tr>\n",
       "  </thead>\n",
       "  <tbody>\n",
       "    <tr>\n",
       "      <th>0</th>\n",
       "      <td>1461</td>\n",
       "      <td>127473.66</td>\n",
       "    </tr>\n",
       "    <tr>\n",
       "      <th>1</th>\n",
       "      <td>1462</td>\n",
       "      <td>150754.75</td>\n",
       "    </tr>\n",
       "    <tr>\n",
       "      <th>2</th>\n",
       "      <td>1463</td>\n",
       "      <td>179008.54</td>\n",
       "    </tr>\n",
       "    <tr>\n",
       "      <th>3</th>\n",
       "      <td>1464</td>\n",
       "      <td>181066.00</td>\n",
       "    </tr>\n",
       "    <tr>\n",
       "      <th>4</th>\n",
       "      <td>1465</td>\n",
       "      <td>200508.19</td>\n",
       "    </tr>\n",
       "    <tr>\n",
       "      <th>...</th>\n",
       "      <td>...</td>\n",
       "      <td>...</td>\n",
       "    </tr>\n",
       "    <tr>\n",
       "      <th>1454</th>\n",
       "      <td>2915</td>\n",
       "      <td>81991.11</td>\n",
       "    </tr>\n",
       "    <tr>\n",
       "      <th>1455</th>\n",
       "      <td>2916</td>\n",
       "      <td>83992.11</td>\n",
       "    </tr>\n",
       "    <tr>\n",
       "      <th>1456</th>\n",
       "      <td>2917</td>\n",
       "      <td>164261.59</td>\n",
       "    </tr>\n",
       "    <tr>\n",
       "      <th>1457</th>\n",
       "      <td>2918</td>\n",
       "      <td>115416.00</td>\n",
       "    </tr>\n",
       "    <tr>\n",
       "      <th>1458</th>\n",
       "      <td>2919</td>\n",
       "      <td>228957.79</td>\n",
       "    </tr>\n",
       "  </tbody>\n",
       "</table>\n",
       "<p>1459 rows × 2 columns</p>\n",
       "</div>"
      ],
      "text/plain": [
       "        Id  SalePrice\n",
       "0     1461  127473.66\n",
       "1     1462  150754.75\n",
       "2     1463  179008.54\n",
       "3     1464  181066.00\n",
       "4     1465  200508.19\n",
       "...    ...        ...\n",
       "1454  2915   81991.11\n",
       "1455  2916   83992.11\n",
       "1456  2917  164261.59\n",
       "1457  2918  115416.00\n",
       "1458  2919  228957.79\n",
       "\n",
       "[1459 rows x 2 columns]"
      ]
     },
     "execution_count": 51,
     "metadata": {},
     "output_type": "execute_result"
    }
   ],
   "source": [
    "# Save test predictions to file\n",
    "output = pd.DataFrame({'Id': X_test.index,\n",
    "                       'SalePrice': preds_test})\n",
    "output.to_csv('submission_full_data53.csv', index=False)\n",
    "output"
   ]
  },
  {
   "cell_type": "code",
   "execution_count": 52,
   "id": "6295bc2a",
   "metadata": {
    "execution": {
     "iopub.execute_input": "2024-04-11T14:25:25.316439Z",
     "iopub.status.busy": "2024-04-11T14:25:25.316161Z",
     "iopub.status.idle": "2024-04-11T14:25:25.320450Z",
     "shell.execute_reply": "2024-04-11T14:25:25.319623Z"
    },
    "papermill": {
     "duration": 0.032804,
     "end_time": "2024-04-11T14:25:25.322586",
     "exception": false,
     "start_time": "2024-04-11T14:25:25.289782",
     "status": "completed"
    },
    "tags": []
   },
   "outputs": [
    {
     "name": "stdout",
     "output_type": "stream",
     "text": [
      "True\n"
     ]
    }
   ],
   "source": [
    "# check if final_X and y have the same number of rows.\n",
    "print(final_X.shape[0] == y.shape[0])"
   ]
  },
  {
   "cell_type": "markdown",
   "id": "40b1fafa",
   "metadata": {
    "papermill": {
     "duration": 0.02555,
     "end_time": "2024-04-11T14:25:25.373678",
     "exception": false,
     "start_time": "2024-04-11T14:25:25.348128",
     "status": "completed"
    },
    "tags": []
   },
   "source": [
    "# Submit your results\n",
    "\n",
    "Once you have successfully completed Step 4, you're ready to submit your results to the leaderboard!  (_You also learned how to do this in the previous exercise.  If you need a reminder of how to do this, please use the instructions below._)  \n",
    "\n",
    "First, you'll need to join the competition if you haven't already.  So open a new window by clicking on [this link](https://www.kaggle.com/c/home-data-for-ml-course).  Then click on the **Join Competition** button.\n",
    "\n",
    "![join competition image](https://storage.googleapis.com/kaggle-media/learn/images/wLmFtH3.png)\n",
    "\n",
    "Next, follow the instructions below:\n",
    "1. Begin by clicking on the **Save Version** button in the top right corner of the window.  This will generate a pop-up window.  \n",
    "2. Ensure that the **Save and Run All** option is selected, and then click on the **Save** button.\n",
    "3. This generates a window in the bottom left corner of the notebook.  After it has finished running, click on the number to the right of the **Save Version** button.  This pulls up a list of versions on the right of the screen.  Click on the ellipsis **(...)** to the right of the most recent version, and select **Open in Viewer**.  This brings you into view mode of the same page. You will need to scroll down to get back to these instructions.\n",
    "4. Click on the **Data** tab near the top of the screen.  Then, click on the file you would like to submit, and click on the **Submit** button to submit your results to the leaderboard.\n",
    "\n",
    "You have now successfully submitted to the competition!\n",
    "\n",
    "If you want to keep working to improve your performance, select the **Edit** button in the top right of the screen. Then you can change your code and repeat the process. There's a lot of room to improve, and you will climb up the leaderboard as you work.\n",
    "\n",
    "\n",
    "# Keep going\n",
    "\n",
    "Move on to learn what **[categorical variables](https://www.kaggle.com/alexisbcook/categorical-variables)** are, along with how to incorporate them into your machine learning models.  Categorical variables are very common in real-world data, but you'll get an error if you try to plug them into your models without processing them first!"
   ]
  },
  {
   "cell_type": "markdown",
   "id": "75e54f4c",
   "metadata": {
    "papermill": {
     "duration": 0.025328,
     "end_time": "2024-04-11T14:25:25.425128",
     "exception": false,
     "start_time": "2024-04-11T14:25:25.399800",
     "status": "completed"
    },
    "tags": []
   },
   "source": [
    "---\n",
    "\n",
    "\n",
    "\n",
    "\n",
    "*Have questions or comments? Visit the [course discussion forum](https://www.kaggle.com/learn/intermediate-machine-learning/discussion) to chat with other learners.*"
   ]
  }
 ],
 "metadata": {
  "kaggle": {
   "accelerator": "none",
   "dataSources": [
    {
     "databundleVersionId": 111096,
     "sourceId": 10211,
     "sourceType": "competition"
    }
   ],
   "isGpuEnabled": false,
   "isInternetEnabled": true,
   "language": "python",
   "sourceType": "notebook"
  },
  "kernelspec": {
   "display_name": "Python 3",
   "language": "python",
   "name": "python3"
  },
  "language_info": {
   "codemirror_mode": {
    "name": "ipython",
    "version": 3
   },
   "file_extension": ".py",
   "mimetype": "text/x-python",
   "name": "python",
   "nbconvert_exporter": "python",
   "pygments_lexer": "ipython3",
   "version": "3.10.13"
  },
  "papermill": {
   "default_parameters": {},
   "duration": 77.051516,
   "end_time": "2024-04-11T14:25:28.070530",
   "environment_variables": {},
   "exception": null,
   "input_path": "__notebook__.ipynb",
   "output_path": "__notebook__.ipynb",
   "parameters": {},
   "start_time": "2024-04-11T14:24:11.019014",
   "version": "2.5.0"
  }
 },
 "nbformat": 4,
 "nbformat_minor": 5
}
